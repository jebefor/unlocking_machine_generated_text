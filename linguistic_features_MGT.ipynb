{
 "cells": [
  {
   "cell_type": "markdown",
   "metadata": {
    "id": "MEtLH6yroIxt"
   },
   "source": [
    "*Notes*:\n",
    "\n",
    "EDA on linguistic features for feature engineering in machine-generated text detection. \n",
    "\n",
    "Three text sources were used and compared: \n",
    "- GPT-2 small (model) outputs: 5000 texts.\n",
    "- GPT-2 XL (model) outputs: 5000 texts.\n",
    "- WebText: 5000 texts.\n",
    "\n",
    
   ]
  },
  {
   "cell_type": "markdown",
   "metadata": {
    "id": "ngaAhbyHvDkH"
   },
   "source": [
    "# Import dataset from Kaggle"
   ]
  },
  {
   "cell_type": "markdown",
   "metadata": {
    "id": "uxEgbRH7vNAJ"
   },
   "source": [
    "Instructions: https://medium.com/analytics-vidhya/how-to-fetch-kaggle-datasets-into-google-colab-ea682569851a\n",
    "\n",
    "Data source: https://github.com/openai/gpt-2-output-dataset\n",
    "\n",
    "Data description:\n",
    "\n",
    "\n",
    "- 250K samples from the WebText test set.\n",
    "- For each GPT-2 model (trained on the WebText training set), 250K random samples (temperature 1, no truncation) and 250K samples generated with Top-K 40 truncation.\n"
   ]
  },
  {
   "cell_type": "code",
   "execution_count": 1,
   "metadata": {
    "colab": {
     "base_uri": "https://localhost:8080/"
    },
    "executionInfo": {
     "elapsed": 25096,
     "status": "ok",
     "timestamp": 1613810808381,
     "user": {
      "displayName": "Jessica BF",
      "photoUrl": "https://lh3.googleusercontent.com/a-/AOh14GhCrDW1Aq5a9cT_A5gflKX4kwHi-Q3_TJ_teVaU_g=s64",
      "userId": "14141208155438223454"
     },
     "user_tz": -60
    },
    "id": "WdPqKlQ6t_LE",
    "outputId": "1b9ade39-54e7-4060-9be3-cb0bcfa364c3"
   },
   "outputs": [
    {
     "name": "stdout",
     "output_type": "stream",
     "text": [
      "Mounted at /content/gdrive\n"
     ]
    }
   ],
   "source": [
    "from google.colab import drive\n",
    "drive.mount('/content/gdrive')"
   ]
  },
  {
   "cell_type": "code",
   "execution_count": null,
   "metadata": {
    "id": "XVz2Pd_huG_p"
   },
   "outputs": [],
   "source": [
    "import os\n",
    "os.environ['KAGGLE_CONFIG_DIR'] = \"/content/gdrive/My Drive/Kaggle\""
   ]
  },
  {
   "cell_type": "code",
   "execution_count": 2,
   "metadata": {
    "colab": {
     "base_uri": "https://localhost:8080/"
    },
    "executionInfo": {
     "elapsed": 1235,
     "status": "ok",
     "timestamp": 1613810812877,
     "user": {
      "displayName": "Jessica BF",
      "photoUrl": "https://lh3.googleusercontent.com/a-/AOh14GhCrDW1Aq5a9cT_A5gflKX4kwHi-Q3_TJ_teVaU_g=s64",
      "userId": "14141208155438223454"
     },
     "user_tz": -60
    },
    "id": "TPjIu3dHuaYq",
    "outputId": "6bc87aa6-77af-4a18-ebad-265c720b7839"
   },
   "outputs": [
    {
     "name": "stdout",
     "output_type": "stream",
     "text": [
      "/content/gdrive/My Drive/Kaggle\n"
     ]
    }
   ],
   "source": [
    "%cd /content/gdrive/My Drive/Kaggle"
   ]
  },
  {
   "cell_type": "code",
   "execution_count": null,
   "metadata": {
    "colab": {
     "base_uri": "https://localhost:8080/"
    },
    "executionInfo": {
     "elapsed": 31513,
     "status": "ok",
     "timestamp": 1613728811949,
     "user": {
      "displayName": "Jessica BF",
      "photoUrl": "https://lh3.googleusercontent.com/a-/AOh14GhCrDW1Aq5a9cT_A5gflKX4kwHi-Q3_TJ_teVaU_g=s64",
      "userId": "14141208155438223454"
     },
     "user_tz": -60
    },
    "id": "VgikPPjsufB7",
    "outputId": "c95aa301-11df-4833-b115-fec6b00dccb1"
   },
   "outputs": [
    {
     "name": "stdout",
     "output_type": "stream",
     "text": [
      "Downloading gpt2-output-data.zip to /content/gdrive/My Drive/Kaggle\n",
      "100% 2.62G/2.62G [00:29<00:00, 80.7MB/s]\n",
      "100% 2.62G/2.62G [00:29<00:00, 94.2MB/s]\n"
     ]
    }
   ],
   "source": [
    "!kaggle datasets download -d abhishek/gpt2-output-data"
   ]
  },
  {
   "cell_type": "code",
   "execution_count": null,
   "metadata": {
    "colab": {
     "base_uri": "https://localhost:8080/"
    },
    "executionInfo": {
     "elapsed": 766,
     "status": "ok",
     "timestamp": 1613728819053,
     "user": {
      "displayName": "Jessica BF",
      "photoUrl": "https://lh3.googleusercontent.com/a-/AOh14GhCrDW1Aq5a9cT_A5gflKX4kwHi-Q3_TJ_teVaU_g=s64",
      "userId": "14141208155438223454"
     },
     "user_tz": -60
    },
    "id": "_rzxwpukuxAT",
    "outputId": "22fdd10f-a22e-4da0-e606-6d4c8f742d34"
   },
   "outputs": [
    {
     "name": "stdout",
     "output_type": "stream",
     "text": [
      "gpt2-output-data.zip  kaggle.json  MGT_Feature_Engineering_EDA.ipynb\n"
     ]
    }
   ],
   "source": [
    "!ls"
   ]
  },
  {
   "cell_type": "code",
   "execution_count": null,
   "metadata": {
    "colab": {
     "base_uri": "https://localhost:8080/"
    },
    "executionInfo": {
     "elapsed": 139975,
     "status": "ok",
     "timestamp": 1613728969404,
     "user": {
      "displayName": "Jessica BF",
      "photoUrl": "https://lh3.googleusercontent.com/a-/AOh14GhCrDW1Aq5a9cT_A5gflKX4kwHi-Q3_TJ_teVaU_g=s64",
      "userId": "14141208155438223454"
     },
     "user_tz": -60
    },
    "id": "M90DGZtyu5Sv",
    "outputId": "cb095fe0-8f10-41e6-ed56-fd6ed9258a13"
   },
   "outputs": [
    {
     "name": "stdout",
     "output_type": "stream",
     "text": [
      "Archive:  gpt2-output-data.zip\n",
      "  inflating: large-762M-k40.test.csv  \n",
      "  inflating: large-762M-k40.train.csv  \n",
      "  inflating: large-762M-k40.valid.csv  \n",
      "  inflating: large-762M.test.csv     \n",
      "  inflating: large-762M.train.csv    \n",
      "  inflating: large-762M.valid.csv    \n",
      "  inflating: medium-345M-k40.test.csv  \n",
      "  inflating: medium-345M-k40.train.csv  \n",
      "  inflating: medium-345M-k40.valid.csv  \n",
      "  inflating: medium-345M.test.csv    \n",
      "  inflating: medium-345M.train.csv   \n",
      "  inflating: medium-345M.valid.csv   \n",
      "  inflating: small-117M-k40.test.csv  \n",
      "  inflating: small-117M-k40.train.csv  \n",
      "  inflating: small-117M-k40.valid.csv  \n",
      "  inflating: small-117M.test.csv     \n",
      "  inflating: small-117M.train.csv    \n",
      "  inflating: small-117M.valid.csv    \n",
      "  inflating: webtext.test.csv        \n",
      "  inflating: webtext.train.csv       \n",
      "  inflating: webtext.valid.csv       \n",
      "  inflating: xl-1542M-k40.test.csv   \n",
      "  inflating: xl-1542M-k40.train.csv  \n",
      "  inflating: xl-1542M-k40.valid.csv  \n",
      "  inflating: xl-1542M.test.csv       \n",
      "  inflating: xl-1542M.train.csv      \n",
      "  inflating: xl-1542M.valid.csv      \n"
     ]
    }
   ],
   "source": [
    "!unzip \\*.zip  && rm *.zip"
   ]
  },
  {
   "cell_type": "code",
   "execution_count": null,
   "metadata": {
    "colab": {
     "base_uri": "https://localhost:8080/"
    },
    "executionInfo": {
     "elapsed": 731,
     "status": "ok",
     "timestamp": 1613729028269,
     "user": {
      "displayName": "Jessica BF",
      "photoUrl": "https://lh3.googleusercontent.com/a-/AOh14GhCrDW1Aq5a9cT_A5gflKX4kwHi-Q3_TJ_teVaU_g=s64",
      "userId": "14141208155438223454"
     },
     "user_tz": -60
    },
    "id": "fH9N3_8Vu8-k",
    "outputId": "4346ac29-f7a2-4fd4-88b3-315b1e21da63"
   },
   "outputs": [
    {
     "name": "stdout",
     "output_type": "stream",
     "text": [
      "kaggle.json\t\t\t   small-117M-k40.train.csv\n",
      "large-762M-k40.test.csv\t\t   small-117M-k40.valid.csv\n",
      "large-762M-k40.train.csv\t   small-117M.test.csv\n",
      "large-762M-k40.valid.csv\t   small-117M.train.csv\n",
      "large-762M.test.csv\t\t   small-117M.valid.csv\n",
      "large-762M.train.csv\t\t   webtext.test.csv\n",
      "large-762M.valid.csv\t\t   webtext.train.csv\n",
      "medium-345M-k40.test.csv\t   webtext.valid.csv\n",
      "medium-345M-k40.train.csv\t   xl-1542M-k40.test.csv\n",
      "medium-345M-k40.valid.csv\t   xl-1542M-k40.train.csv\n",
      "medium-345M.test.csv\t\t   xl-1542M-k40.valid.csv\n",
      "medium-345M.train.csv\t\t   xl-1542M.test.csv\n",
      "medium-345M.valid.csv\t\t   xl-1542M.train.csv\n",
      "MGT_Feature_Engineering_EDA.ipynb  xl-1542M.valid.csv\n",
      "small-117M-k40.test.csv\n"
     ]
    }
   ],
   "source": [
    "!ls"
   ]
  },
  {
   "cell_type": "markdown",
   "metadata": {
    "id": "e3mp8bScwAjj"
   },
   "source": [
    "# Package imports and setup"
   ]
  },
  {
   "cell_type": "code",
   "execution_count": 21,
   "metadata": {
    "colab": {
     "base_uri": "https://localhost:8080/"
    },
    "executionInfo": {
     "elapsed": 10377,
     "status": "ok",
     "timestamp": 1613812562710,
     "user": {
      "displayName": "Jessica BF",
      "photoUrl": "https://lh3.googleusercontent.com/a-/AOh14GhCrDW1Aq5a9cT_A5gflKX4kwHi-Q3_TJ_teVaU_g=s64",
      "userId": "14141208155438223454"
     },
     "user_tz": -60
    },
    "id": "PfDeckgYv9w1",
    "outputId": "bf4da998-cfea-45f6-c8c0-556b18c286ff"
   },
   "outputs": [
    {
     "name": "stdout",
     "output_type": "stream",
     "text": [
      "Collecting textatistic\n",
      "  Downloading https://files.pythonhosted.org/packages/73/f8/74dade1df8998ce9a42cba21b3cdf284f3f273e7e22fbcab27955d213e61/textatistic-0.0.1.tar.gz\n",
      "Collecting pyhyphen>=2.0.5\n",
      "  Downloading https://files.pythonhosted.org/packages/2b/74/16d8d60c43cb90ba1d4c69a6883188c9b95505a4a0cc35e7aef66781a846/PyHyphen-4.0.0.tar.gz\n",
      "Requirement already satisfied: appdirs in /usr/local/lib/python3.6/dist-packages (from pyhyphen>=2.0.5->textatistic) (1.4.4)\n",
      "Requirement already satisfied: requests in /usr/local/lib/python3.6/dist-packages (from pyhyphen>=2.0.5->textatistic) (2.23.0)\n",
      "Requirement already satisfied: urllib3!=1.25.0,!=1.25.1,<1.26,>=1.21.1 in /usr/local/lib/python3.6/dist-packages (from requests->pyhyphen>=2.0.5->textatistic) (1.24.3)\n",
      "Requirement already satisfied: chardet<4,>=3.0.2 in /usr/local/lib/python3.6/dist-packages (from requests->pyhyphen>=2.0.5->textatistic) (3.0.4)\n",
      "Requirement already satisfied: certifi>=2017.4.17 in /usr/local/lib/python3.6/dist-packages (from requests->pyhyphen>=2.0.5->textatistic) (2020.12.5)\n",
      "Requirement already satisfied: idna<3,>=2.5 in /usr/local/lib/python3.6/dist-packages (from requests->pyhyphen>=2.0.5->textatistic) (2.10)\n",
      "Building wheels for collected packages: textatistic, pyhyphen\n",
      "  Building wheel for textatistic (setup.py) ... \u001b[?25l\u001b[?25hdone\n",
      "  Created wheel for textatistic: filename=textatistic-0.0.1-cp36-none-any.whl size=29057 sha256=ddcc86d0004b79819ffd82949e4a9dc2c484a79d94d6d62269267ff4c6941aba\n",
      "  Stored in directory: /root/.cache/pip/wheels/1d/ec/34/69c3cae349149cd91552c4c470efcbd08bbd21ba30b12e08ab\n",
      "  Building wheel for pyhyphen (setup.py) ... \u001b[?25lerror\n",
      "\u001b[31m  ERROR: Failed building wheel for pyhyphen\u001b[0m\n",
      "\u001b[?25h  Running setup.py clean for pyhyphen\n",
      "Successfully built textatistic\n",
      "Failed to build pyhyphen\n",
      "Installing collected packages: pyhyphen, textatistic\n",
      "    Running setup.py install for pyhyphen ... \u001b[?25l\u001b[?25hdone\n",
      "Successfully installed pyhyphen-4.0.0 textatistic-0.0.1\n"
     ]
    }
   ],
   "source": [
    "!pip install textatistic"
   ]
  },
  {
   "cell_type": "code",
   "execution_count": 22,
   "metadata": {
    "colab": {
     "base_uri": "https://localhost:8080/"
    },
    "executionInfo": {
     "elapsed": 3717,
     "status": "ok",
     "timestamp": 1613812570232,
     "user": {
      "displayName": "Jessica BF",
      "photoUrl": "https://lh3.googleusercontent.com/a-/AOh14GhCrDW1Aq5a9cT_A5gflKX4kwHi-Q3_TJ_teVaU_g=s64",
      "userId": "14141208155438223454"
     },
     "user_tz": -60
    },
    "id": "7jPAZcTVwRJB",
    "outputId": "6c0d637c-e605-4521-8306-cbbff6956bf9"
   },
   "outputs": [
    {
     "name": "stdout",
     "output_type": "stream",
     "text": [
      "[nltk_data] Downloading package vader_lexicon to /root/nltk_data...\n",
      "[nltk_data]   Package vader_lexicon is already up-to-date!\n"
     ]
    }
   ],
   "source": [
    "import warnings\n",
    "warnings.filterwarnings(\"ignore\")\n",
    "\n",
    "import os\n",
    "import sys\n",
    "import time\n",
    "import re\n",
    "import numpy as np\n",
    "import pandas as pd\n",
    "from string import punctuation\n",
    "from collections import Counter\n",
    "\n",
    "# nlp\n",
    "import spacy\n",
    "nlp = spacy.load(\"en_core_web_sm\", disable=['parser', 'ner'])\n",
    "import nltk\n",
    "from textatistic import Textatistic\n",
    "\n",
    "# sentiment analysis\n",
    "from nltk.sentiment.vader import SentimentIntensityAnalyzer\n",
    "nltk.download('vader_lexicon')\n",
    "from textblob import TextBlob\n",
    "\n",
    "# visualization\n",
    "import seaborn as sns\n",
    "import matplotlib.pyplot as plt"
   ]
  },
  {
   "cell_type": "code",
   "execution_count": 4,
   "metadata": {
    "colab": {
     "base_uri": "https://localhost:8080/"
    },
    "executionInfo": {
     "elapsed": 4426,
     "status": "ok",
     "timestamp": 1613810856634,
     "user": {
      "displayName": "Jessica BF",
      "photoUrl": "https://lh3.googleusercontent.com/a-/AOh14GhCrDW1Aq5a9cT_A5gflKX4kwHi-Q3_TJ_teVaU_g=s64",
      "userId": "14141208155438223454"
     },
     "user_tz": -60
    },
    "id": "rk8B8Ltzxbqq",
    "outputId": "e597e8b1-428c-4e0c-dc63-232bd3750937"
   },
   "outputs": [
    {
     "name": "stdout",
     "output_type": "stream",
     "text": [
      "Data loading...\n"
     ]
    }
   ],
   "source": [
    "print(\"Data loading...\")\n",
    "\n",
    "# 1. DataFrame ['id', 'ended', 'length', 'text']\n",
    "# 2. List of texts, each list 5000 of length\n",
    "\n",
    "# Web text (human)\n",
    "human = pd.read_csv(\"webtext.test.csv\")\n",
    "human_text = human.text.values.tolist()\n",
    "\n",
    "# GPT-2 XL\n",
    "gpt_xl = pd.read_csv(\"xl-1542M.test.csv\")\n",
    "gpt_xl_text = gpt_xl.text.values.tolist()\n",
    "\n",
    "# GPT-2 small\n",
    "gpt_sm = pd.read_csv(\"small-117M.test.csv\")\n",
    "gpt_sm_text = gpt_sm.text.values.tolist()"
   ]
  },
  {
   "cell_type": "markdown",
   "metadata": {
    "id": "ACOOqUUaya7U"
   },
   "source": [
    "# Sentiment Analysis and Subjectivity"
   ]
  },
  {
   "cell_type": "code",
   "execution_count": 10,
   "metadata": {
    "executionInfo": {
     "elapsed": 1018,
     "status": "ok",
     "timestamp": 1613812434633,
     "user": {
      "displayName": "Jessica BF",
      "photoUrl": "https://lh3.googleusercontent.com/a-/AOh14GhCrDW1Aq5a9cT_A5gflKX4kwHi-Q3_TJ_teVaU_g=s64",
      "userId": "14141208155438223454"
     },
     "user_tz": -60
    },
    "id": "Io2K2sUhx9iz"
   },
   "outputs": [],
   "source": [
    "def sentiment(text):\n",
    "    \"\"\"\n",
    "    Get sentiment score, category and subjectivity with NLTK's Vader and TextBlob.\n",
    "    \"\"\"\n",
    "    # scores [-1, 1]\n",
    "    sentiment_score = []\n",
    "    # categories (positive, negative, neutral)\n",
    "    sentiment_category = []\n",
    "    # subjectivity [0, 1]\n",
    "    subjectivity = []\n",
    "\n",
    "    for chunk in text:\n",
    "        chunk = str(chunk)\n",
    "        # Vader\n",
    "        sia = SentimentIntensityAnalyzer()\n",
    "        compound = sia.polarity_scores(chunk)['compound']\n",
    "        sentiment_score.append(round(compound, 2))\n",
    "\n",
    "        if compound >= 0.05:\n",
    "            sentiment_category.append('positive')\n",
    "        elif compound >= - 0.05 and compound < 0.05:\n",
    "            sentiment_category.append('neutral')\n",
    "        else:\n",
    "            sentiment_category.append('negative')\n",
    "        \n",
    "        # TextBlob\n",
    "        subj = TextBlob(chunk).sentiment[1]\n",
    "        subjectivity.append(round(subj, 2))\n",
    "        \n",
    "    return pd.DataFrame({'sentiment_score': sentiment_score, \n",
    "                         'sentiment_category': sentiment_category,\n",
    "                         'subjectivity': subjectivity})"
   ]
  },
  {
   "cell_type": "code",
   "execution_count": 7,
   "metadata": {
    "colab": {
     "base_uri": "https://localhost:8080/"
    },
    "executionInfo": {
     "elapsed": 270727,
     "status": "ok",
     "timestamp": 1613811765844,
     "user": {
      "displayName": "Jessica BF",
      "photoUrl": "https://lh3.googleusercontent.com/a-/AOh14GhCrDW1Aq5a9cT_A5gflKX4kwHi-Q3_TJ_teVaU_g=s64",
      "userId": "14141208155438223454"
     },
     "user_tz": -60
    },
    "id": "rckKHVVlyx4k",
    "outputId": "7f3fe03e-7538-4ca5-e3e8-cee62f143817"
   },
   "outputs": [
    {
     "name": "stdout",
     "output_type": "stream",
     "text": [
      "It took 4 minutes.\n"
     ]
    }
   ],
   "source": [
    "t0 = time.time()\n",
    "\n",
    "# Calculate sentiment for each data source\n",
    "gpt_xl_s = sentiment(gpt_xl_text)\n",
    "gpt_sm_s = sentiment(gpt_sm_text)\n",
    "human_s = sentiment(human_text)\n",
    "\n",
    "print(\"It took {} minutes.\".format(int((time.time() - t0)/60)))"
   ]
  },
  {
   "cell_type": "markdown",
   "metadata": {
    "id": "L7Fbz2IC174y"
   },
   "source": [
    "## Sentiment plots"
   ]
  },
  {
   "cell_type": "code",
   "execution_count": null,
   "metadata": {
    "colab": {
     "base_uri": "https://localhost:8080/",
     "height": 541
    },
    "executionInfo": {
     "elapsed": 1205,
     "status": "ok",
     "timestamp": 1613730482596,
     "user": {
      "displayName": "Jessica BF",
      "photoUrl": "https://lh3.googleusercontent.com/a-/AOh14GhCrDW1Aq5a9cT_A5gflKX4kwHi-Q3_TJ_teVaU_g=s64",
      "userId": "14141208155438223454"
     },
     "user_tz": -60
    },
    "id": "yd5xI3Ley5A4",
    "outputId": "1e8e64d5-dd19-4860-e462-a731e1665108"
   },
   "outputs": [
    {
     "data": {
      "image/png": "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\n",
      "text/plain": [
       "<Figure size 1296x648 with 3 Axes>"
      ]
     },
     "metadata": {
      "needs_background": "light",
      "tags": []
     },
     "output_type": "display_data"
    }
   ],
   "source": [
    "# Plots for sentiment category distribution in each data source\n",
    "\n",
    "fig, ax = plt.subplots(1,3, figsize=(18,9))\n",
    "\n",
    "ax[0].set_title(\"sentiment category GPT-2 small output\")\n",
    "ax[0].set_ylim(0, 4000)\n",
    "\n",
    "ax[1].set_title(\"sentiment category GPT-2 XL output\")\n",
    "ax[1].set_ylim(0, 4000)\n",
    "\n",
    "ax[2].set_title(\"sentiment category human web text\")\n",
    "ax[2].set_ylim(0, 4000)\n",
    "\n",
    "colors = ['royalblue', 'crimson', 'orange']\n",
    "order = ['positive', 'negative', 'neutral']\n",
    "\n",
    "gpt_sm_vis = sns.countplot(gpt_sm_s['sentiment_category'], ax=ax[0], order=order, palette=colors)\n",
    "gpt_xl_vis = sns.countplot(gpt_xl_s['sentiment_category'], ax=ax[1], order=order, palette=colors)\n",
    "human_vis = sns.countplot(human_s['sentiment_category'], ax=ax[2], order=order, palette=colors)"
   ]
  },
  {
   "cell_type": "code",
   "execution_count": null,
   "metadata": {
    "colab": {
     "base_uri": "https://localhost:8080/",
     "height": 541
    },
    "executionInfo": {
     "elapsed": 1932,
     "status": "ok",
     "timestamp": 1613730571970,
     "user": {
      "displayName": "Jessica BF",
      "photoUrl": "https://lh3.googleusercontent.com/a-/AOh14GhCrDW1Aq5a9cT_A5gflKX4kwHi-Q3_TJ_teVaU_g=s64",
      "userId": "14141208155438223454"
     },
     "user_tz": -60
    },
    "id": "TJ5WfbtA0nVW",
    "outputId": "a0534415-28e2-400b-e0cc-1b05527aecae"
   },
   "outputs": [
    {
     "data": {
      "image/png": "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\n",
      "text/plain": [
       "<Figure size 1296x648 with 3 Axes>"
      ]
     },
     "metadata": {
      "needs_background": "light",
      "tags": []
     },
     "output_type": "display_data"
    }
   ],
   "source": [
    "# Plots for sentiment score [-1 - negative, 1 - positive] distribution\n",
    "\n",
    "fig, ax = plt.subplots(1,3, figsize=(18,9))\n",
    "\n",
    "ax[0].set_title(\"sentiment score GPT-2 small output\")\n",
    "ax[0].set_ylim(0, 2500)\n",
    "\n",
    "ax[1].set_title(\"sentiment score GPT-2 XL output\")\n",
    "ax[1].set_ylim(0, 2500)\n",
    "\n",
    "ax[2].set_title(\"sentiment score human web text\")\n",
    "ax[2].set_ylim(0, 2500)\n",
    "\n",
    "gpt_sm_vis = sns.histplot(data=gpt_sm_s['sentiment_score'], ax=ax[0], bins=30)\n",
    "gpt_xl_vis = sns.histplot(data=gpt_xl_s['sentiment_score'], ax=ax[1], bins=30)\n",
    "human_vis = sns.histplot(data=human_s['sentiment_score'], ax=ax[2], bins=30)"
   ]
  },
  {
   "cell_type": "markdown",
   "metadata": {
    "id": "P4S2AdqX1_Oj"
   },
   "source": [
    "## Subjectivity plots"
   ]
  },
  {
   "cell_type": "code",
   "execution_count": null,
   "metadata": {
    "colab": {
     "base_uri": "https://localhost:8080/",
     "height": 540
    },
    "executionInfo": {
     "elapsed": 2584,
     "status": "ok",
     "timestamp": 1613730825283,
     "user": {
      "displayName": "Jessica BF",
      "photoUrl": "https://lh3.googleusercontent.com/a-/AOh14GhCrDW1Aq5a9cT_A5gflKX4kwHi-Q3_TJ_teVaU_g=s64",
      "userId": "14141208155438223454"
     },
     "user_tz": -60
    },
    "id": "ol5QYj3n1l7O",
    "outputId": "58f5aeb3-cc66-49ba-dbd3-45654e60ca44"
   },
   "outputs": [
    {
     "data": {
      "image/png": "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\n",
      "text/plain": [
       "<Figure size 1296x648 with 3 Axes>"
      ]
     },
     "metadata": {
      "needs_background": "light",
      "tags": []
     },
     "output_type": "display_data"
    }
   ],
   "source": [
    "# Plots for subjectivity score [0 - objective, 1 - subjective] distribution\n",
    "\n",
    "fig, ax = plt.subplots(1,3, figsize=(18,9))\n",
    "\n",
    "ax[0].set_title(\"subjectivity score GPT-2 small output\")\n",
    "ax[0].set_ylim(0, 1000)\n",
    "\n",
    "ax[1].set_title(\"subjectivity score GPT-2 XL output\")\n",
    "ax[1].set_ylim(0, 1000)\n",
    "\n",
    "ax[2].set_title(\"subjectivity score human web text\")\n",
    "ax[2].set_ylim(0, 1000)\n",
    "\n",
    "gpt_sm_vis = sns.histplot(data=gpt_sm_s['subjectivity'], ax=ax[0], bins=30)\n",
    "gpt_xl_vis = sns.histplot(data=gpt_xl_s['subjectivity'], ax=ax[1], bins=30)\n",
    "human_vis = sns.histplot(data=human_s['subjectivity'], ax=ax[2], bins=30)"
   ]
  },
  {
   "cell_type": "markdown",
   "metadata": {
    "id": "5FFEv9aP3Ahf"
   },
   "source": [
    "# Readability"
   ]
  },
  {
   "cell_type": "code",
   "execution_count": 16,
   "metadata": {
    "executionInfo": {
     "elapsed": 853,
     "status": "ok",
     "timestamp": 1613812530674,
     "user": {
      "displayName": "Jessica BF",
      "photoUrl": "https://lh3.googleusercontent.com/a-/AOh14GhCrDW1Aq5a9cT_A5gflKX4kwHi-Q3_TJ_teVaU_g=s64",
      "userId": "14141208155438223454"
     },
     "user_tz": -60
    },
    "id": "kTpQn6Rlwf2T"
   },
   "outputs": [],
   "source": [
    "def isascii(s):\n",
    "    \"\"\"\n",
    "    Check if the characters in string are in ASCII -- equivalent to English + punctuation characters.\n",
    "    \"\"\"\n",
    "    return len(s) == len(s.encode())"
   ]
  },
  {
   "cell_type": "code",
   "execution_count": 17,
   "metadata": {
    "executionInfo": {
     "elapsed": 647,
     "status": "ok",
     "timestamp": 1613812531774,
     "user": {
      "displayName": "Jessica BF",
      "photoUrl": "https://lh3.googleusercontent.com/a-/AOh14GhCrDW1Aq5a9cT_A5gflKX4kwHi-Q3_TJ_teVaU_g=s64",
      "userId": "14141208155438223454"
     },
     "user_tz": -60
    },
    "id": "jwUNssPZg64e"
   },
   "outputs": [],
   "source": [
    "def clean(text):\n",
    "    \n",
    "    \"\"\"\n",
    "    Remove urls, too long tokens, digits, hyphens, extra whitespaces and other punctuation except full stop.\n",
    "    \"\"\"\n",
    "    t = re.sub(r\"http\\S+\", \"\", str(text))\n",
    "    t = re.sub(r\"[\\n]{1,}\", \".\", t)\n",
    "    if t.startswith(\".\"):\n",
    "        t = t[1:]\n",
    "    t = re.sub(r\"[^\\w\\.]\", \" \", t) # Only full stops are really necessary here -- to delimite sentences.\n",
    "    t = re.sub(r\"[-_—]\", \" \", t) # Numerous errors from hyphenation.\n",
    "    t = re.sub(r\"\\d\", \"\", t) # Some texts are only digits -- confuses the algorithm, don't provide any insight.\n",
    "    t = [w.rstrip() for w in t.split()]\n",
    "    t = \" \".join([w for w in t if len(w) <= 45]) # https://en.wikipedia.org/wiki/Longest_word_in_English\n",
    "    t = re.sub(r'(\\.|\\. ){2,}', \"\", t)\n",
    "    if not t.endswith(\".\"):\n",
    "        t = t + \".\" # Otherwise textatistic can raise ZeroDivisionError as no sentence is found.\n",
    "    if t.isspace() or t[:-1].isspace() or not isascii(t): # Make sure to drop non actual text or text in other languages.\n",
    "        t = \"\"\n",
    "\n",
    "    return t"
   ]
  },
  {
   "cell_type": "code",
   "execution_count": 18,
   "metadata": {
    "executionInfo": {
     "elapsed": 845,
     "status": "ok",
     "timestamp": 1613812536109,
     "user": {
      "displayName": "Jessica BF",
      "photoUrl": "https://lh3.googleusercontent.com/a-/AOh14GhCrDW1Aq5a9cT_A5gflKX4kwHi-Q3_TJ_teVaU_g=s64",
      "userId": "14141208155438223454"
     },
     "user_tz": -60
    },
    "id": "mOyTKSWD3-y2"
   },
   "outputs": [],
   "source": [
    "def readability(text, index):\n",
    "    \"\"\"\n",
    "    Get Gunning Fog and Flesch scores for comparision of both indices.\n",
    "    \"\"\"\n",
    "    t = clean(text)\n",
    "    if len(t) > 10: # If there is something that can be meaningful, continue.\n",
    "        s = Textatistic(t).scores\n",
    "\n",
    "        if index == \"gunningfog\":\n",
    "            return round(s['gunningfog_score'], 2)\n",
    "        \n",
    "        if index == \"flesch\":\n",
    "            return round(s['flesch_score'], 2)\n",
    "        \n",
    "        else:\n",
    "            print(\"Please select index: 'gunningfog' or 'flesch'.\")"
   ]
  },
  {
   "cell_type": "code",
   "execution_count": 19,
   "metadata": {
    "executionInfo": {
     "elapsed": 814,
     "status": "ok",
     "timestamp": 1613812537581,
     "user": {
      "displayName": "Jessica BF",
      "photoUrl": "https://lh3.googleusercontent.com/a-/AOh14GhCrDW1Aq5a9cT_A5gflKX4kwHi-Q3_TJ_teVaU_g=s64",
      "userId": "14141208155438223454"
     },
     "user_tz": -60
    },
    "id": "xdN2rav2XILM"
   },
   "outputs": [],
   "source": [
    "def build_df_read(series, name, index):\n",
    "    \"\"\"\n",
    "    Call readibility function on a pandas series.\n",
    "\n",
    "    series : Pandas Series\n",
    "    name : desired name for new column\n",
    "    index : 'gunningfog' or 'flesch'\n",
    "    \"\"\"\n",
    "    try:\n",
    "        results = []\n",
    "        for i, row_text in enumerate(series):\n",
    "            results.append(readability(row_text, index))\n",
    "        return pd.Series(data=results, name=name)\n",
    "\n",
    "    except (ZeroDivisionError, ValueError) as e:\n",
    "            print(\"Function stopped: {}\".format(e))\n",
    "            print(\"\\nText that raised error: {}. Text index: {}.\".format(name, i))\n",
    "            sys.exit(\"\\nExited from function.\")"
   ]
  },
  {
   "cell_type": "code",
   "execution_count": 23,
   "metadata": {
    "colab": {
     "base_uri": "https://localhost:8080/"
    },
    "executionInfo": {
     "elapsed": 914682,
     "status": "ok",
     "timestamp": 1613813493876,
     "user": {
      "displayName": "Jessica BF",
      "photoUrl": "https://lh3.googleusercontent.com/a-/AOh14GhCrDW1Aq5a9cT_A5gflKX4kwHi-Q3_TJ_teVaU_g=s64",
      "userId": "14141208155438223454"
     },
     "user_tz": -60
    },
    "id": "4dnoNHGV4H1z",
    "outputId": "5f457b02-8109-4488-bcb6-4cc75c76e723"
   },
   "outputs": [
    {
     "name": "stdout",
     "output_type": "stream",
     "text": [
      "Building DataFrame...\n",
      "Gunningfog scores added...\n",
      "Flesch scores added...\n",
      "Done! It took 15 minutes.\n"
     ]
    }
   ],
   "source": [
    "# Build readability DataFrame\n",
    "\n",
    "t0 = time.time()\n",
    "\n",
    "# 1. DataFrame for all texts\n",
    "read = pd.DataFrame({\"gpt2_sm\": gpt_sm_text,\n",
    "                    \"gpt2_xl\": gpt_xl_text,\n",
    "                    \"human\": human_text})\n",
    "\n",
    "print(\"Building DataFrame...\")\n",
    "\n",
    "# 2. Call readability function, get new columns\n",
    "\n",
    "# 2.1 Use Gunningfog index\n",
    "read[\"gpt2_sm_gunningfog\"] = build_df_read(read[\"gpt2_sm\"], \"gpt2_sm_gunningfog\", \"gunningfog\")\n",
    "read[\"gpt2_xl_gunningfog\"] = build_df_read(read[\"gpt2_xl\"], \"gpt2_xl_gunningfog\", \"gunningfog\")\n",
    "read[\"human_gunningfog\"] = build_df_read(read[\"human\"], \"human_gunningfog\", \"gunningfog\")\n",
    "\n",
    "print(\"Gunningfog scores added...\")\n",
    "\n",
    "# 2.2 Use Flesch index\n",
    "read[\"gpt2_sm_flesch\"] = build_df_read(read[\"gpt2_sm\"], \"gpt2_sm_flesch\", \"flesch\")\n",
    "read[\"gpt2_xl_flesch\"] = build_df_read(read[\"gpt2_xl\"], \"gpt2_xl_flesch\", \"flesch\")\n",
    "read[\"human_flesch\"] = build_df_read(read[\"human\"], \"human_flesch\", \"flesch\")\n",
    "\n",
    "print(\"Flesch scores added...\")\n",
    "\n",
    "# 3. Additional columns for len of texts after cleaning\n",
    "read[\"gpt2_sm_len\"] = read[\"gpt2_sm\"].apply(clean).apply(len)\n",
    "read[\"gpt2_xl_len\"] = read[\"gpt2_xl\"].apply(clean).apply(len)\n",
    "read[\"human_len\"] = read[\"human\"].apply(clean).apply(len)\n",
    "\n",
    "print(\"Done! It took {} minutes.\".format(int((time.time() - t0)/60)))"
   ]
  },
  {
   "cell_type": "code",
   "execution_count": null,
   "metadata": {
    "colab": {
     "base_uri": "https://localhost:8080/",
     "height": 1000
    },
    "executionInfo": {
     "elapsed": 842,
     "status": "ok",
     "timestamp": 1613768605498,
     "user": {
      "displayName": "Jessica BF",
      "photoUrl": "https://lh3.googleusercontent.com/a-/AOh14GhCrDW1Aq5a9cT_A5gflKX4kwHi-Q3_TJ_teVaU_g=s64",
      "userId": "14141208155438223454"
     },
     "user_tz": -60
    },
    "id": "igOOvMu2Af7G",
    "outputId": "b95b3300-ae38-424b-a877-2b5ca73d84a6"
   },
   "outputs": [
    {
     "data": {
      "text/html": [
       "<div>\n",
       "<style scoped>\n",
       "    .dataframe tbody tr th:only-of-type {\n",
       "        vertical-align: middle;\n",
       "    }\n",
       "\n",
       "    .dataframe tbody tr th {\n",
       "        vertical-align: top;\n",
       "    }\n",
       "\n",
       "    .dataframe thead th {\n",
       "        text-align: right;\n",
       "    }\n",
       "</style>\n",
       "<table border=\"1\" class=\"dataframe\">\n",
       "  <thead>\n",
       "    <tr style=\"text-align: right;\">\n",
       "      <th></th>\n",
       "      <th>gpt2_sm</th>\n",
       "      <th>gpt2_xl</th>\n",
       "      <th>human</th>\n",
       "      <th>gpt2_sm_gunningfog</th>\n",
       "      <th>gpt2_xl_gunningfog</th>\n",
       "      <th>human_gunningfog</th>\n",
       "      <th>gpt2_sm_flesch</th>\n",
       "      <th>gpt2_xl_flesch</th>\n",
       "      <th>human_flesch</th>\n",
       "      <th>gpt2_sm_len</th>\n",
       "      <th>gpt2_xl_len</th>\n",
       "      <th>human_len</th>\n",
       "    </tr>\n",
       "  </thead>\n",
       "  <tbody>\n",
       "    <tr>\n",
       "      <th>0</th>\n",
       "      <td>The Technology Report empowers or enlightens. ...</td>\n",
       "      <td>What is this?\\n\\nThis is a neat little plugin ...</td>\n",
       "      <td>Is this restaurant family-friendly ? Yes No Un...</td>\n",
       "      <td>11.82</td>\n",
       "      <td>8.08</td>\n",
       "      <td>5.81</td>\n",
       "      <td>47.12</td>\n",
       "      <td>82.37</td>\n",
       "      <td>77.08</td>\n",
       "      <td>137</td>\n",
       "      <td>694</td>\n",
       "      <td>557</td>\n",
       "    </tr>\n",
       "    <tr>\n",
       "      <th>1</th>\n",
       "      <td>Available Colors:\\n\\nWool Revolver\\n\\nwoodinoo...</td>\n",
       "      <td>People carry a memorial sign to honor Robert P...</td>\n",
       "      <td>Clinton talks about her time of 'reflection' d...</td>\n",
       "      <td>14.11</td>\n",
       "      <td>18.86</td>\n",
       "      <td>13.38</td>\n",
       "      <td>61.98</td>\n",
       "      <td>47.12</td>\n",
       "      <td>66.53</td>\n",
       "      <td>1419</td>\n",
       "      <td>2745</td>\n",
       "      <td>3278</td>\n",
       "    </tr>\n",
       "    <tr>\n",
       "      <th>2</th>\n",
       "      <td>OUTLAW CENTER:\\n\\nUPS &amp; EXPORTS Fulfillment 56...</td>\n",
       "      <td>Google is launching a new scholarship campaign...</td>\n",
       "      <td>House Majority Whip Steve Scalise has been dis...</td>\n",
       "      <td>9.25</td>\n",
       "      <td>30.90</td>\n",
       "      <td>14.91</td>\n",
       "      <td>75.69</td>\n",
       "      <td>17.13</td>\n",
       "      <td>48.12</td>\n",
       "      <td>4137</td>\n",
       "      <td>1963</td>\n",
       "      <td>930</td>\n",
       "    </tr>\n",
       "    <tr>\n",
       "      <th>3</th>\n",
       "      <td>16 of the past 20 games with each team switche...</td>\n",
       "      <td>Authored by: Kristin Scavuzzo, Managing Direct...</td>\n",
       "      <td>Insight Course: Lesson 14\\n\\nControl of the Mi...</td>\n",
       "      <td>NaN</td>\n",
       "      <td>11.70</td>\n",
       "      <td>13.49</td>\n",
       "      <td>NaN</td>\n",
       "      <td>63.45</td>\n",
       "      <td>60.75</td>\n",
       "      <td>0</td>\n",
       "      <td>4161</td>\n",
       "      <td>2144</td>\n",
       "    </tr>\n",
       "    <tr>\n",
       "      <th>4</th>\n",
       "      <td>The semiconductor industry has become increasi...</td>\n",
       "      <td>&gt;at some point the MPP team stop standardizing...</td>\n",
       "      <td>BY JENNIE MCNULTY\\n\\nLesbian.com\\n\\nYou know W...</td>\n",
       "      <td>29.28</td>\n",
       "      <td>9.65</td>\n",
       "      <td>5.08</td>\n",
       "      <td>12.40</td>\n",
       "      <td>74.20</td>\n",
       "      <td>87.18</td>\n",
       "      <td>5036</td>\n",
       "      <td>2234</td>\n",
       "      <td>706</td>\n",
       "    </tr>\n",
       "    <tr>\n",
       "      <th>...</th>\n",
       "      <td>...</td>\n",
       "      <td>...</td>\n",
       "      <td>...</td>\n",
       "      <td>...</td>\n",
       "      <td>...</td>\n",
       "      <td>...</td>\n",
       "      <td>...</td>\n",
       "      <td>...</td>\n",
       "      <td>...</td>\n",
       "      <td>...</td>\n",
       "      <td>...</td>\n",
       "      <td>...</td>\n",
       "    </tr>\n",
       "    <tr>\n",
       "      <th>4995</th>\n",
       "      <td>Build : 993993245 / 920563020 / xx 70 / 69 / 6...</td>\n",
       "      <td>Mac coverage beginning in 1926 at The Michigan...</td>\n",
       "      <td>The week after my 30th birthday, my best frien...</td>\n",
       "      <td>1.20</td>\n",
       "      <td>8.05</td>\n",
       "      <td>8.79</td>\n",
       "      <td>109.79</td>\n",
       "      <td>88.21</td>\n",
       "      <td>83.62</td>\n",
       "      <td>53</td>\n",
       "      <td>312</td>\n",
       "      <td>4444</td>\n",
       "    </tr>\n",
       "    <tr>\n",
       "      <th>4996</th>\n",
       "      <td>twitter 10th old nomad chick had this nugget o...</td>\n",
       "      <td>Martyr Dadabhoyao got a big experience about s...</td>\n",
       "      <td>Downton Abbey doesn't return for its third sea...</td>\n",
       "      <td>11.00</td>\n",
       "      <td>11.90</td>\n",
       "      <td>13.39</td>\n",
       "      <td>73.05</td>\n",
       "      <td>66.87</td>\n",
       "      <td>61.93</td>\n",
       "      <td>377</td>\n",
       "      <td>1335</td>\n",
       "      <td>1216</td>\n",
       "    </tr>\n",
       "    <tr>\n",
       "      <th>4997</th>\n",
       "      <td>QUICK UPDATE 2:27 PM EST: Activist tells HHS S...</td>\n",
       "      <td>\"The nation's smugglers have changed their tac...</td>\n",
       "      <td>Amazon Studios said today that Stephen Root ha...</td>\n",
       "      <td>13.74</td>\n",
       "      <td>20.67</td>\n",
       "      <td>16.84</td>\n",
       "      <td>59.91</td>\n",
       "      <td>37.06</td>\n",
       "      <td>50.74</td>\n",
       "      <td>1166</td>\n",
       "      <td>4798</td>\n",
       "      <td>1636</td>\n",
       "    </tr>\n",
       "    <tr>\n",
       "      <th>4998</th>\n",
       "      <td>END THIS LINE\\n\\n\\nLOVE THIS SHOW? BUY IT ON I...</td>\n",
       "      <td>The level of British public support for direct...</td>\n",
       "      <td>Everyone likes clean wheels but not everyone h...</td>\n",
       "      <td>18.13</td>\n",
       "      <td>27.81</td>\n",
       "      <td>10.24</td>\n",
       "      <td>53.33</td>\n",
       "      <td>24.62</td>\n",
       "      <td>81.79</td>\n",
       "      <td>4107</td>\n",
       "      <td>2850</td>\n",
       "      <td>2655</td>\n",
       "    </tr>\n",
       "    <tr>\n",
       "      <th>4999</th>\n",
       "      <td>that even some people did not realize at the ...</td>\n",
       "      <td>The Minnesota State Patrol is investigating a ...</td>\n",
       "      <td>This post goes out to those of you who have no...</td>\n",
       "      <td>19.71</td>\n",
       "      <td>20.72</td>\n",
       "      <td>11.80</td>\n",
       "      <td>54.86</td>\n",
       "      <td>41.18</td>\n",
       "      <td>67.59</td>\n",
       "      <td>1184</td>\n",
       "      <td>3072</td>\n",
       "      <td>2207</td>\n",
       "    </tr>\n",
       "  </tbody>\n",
       "</table>\n",
       "<p>5000 rows × 12 columns</p>\n",
       "</div>"
      ],
      "text/plain": [
       "                                                gpt2_sm  ... human_len\n",
       "0     The Technology Report empowers or enlightens. ...  ...       557\n",
       "1     Available Colors:\\n\\nWool Revolver\\n\\nwoodinoo...  ...      3278\n",
       "2     OUTLAW CENTER:\\n\\nUPS & EXPORTS Fulfillment 56...  ...       930\n",
       "3     16 of the past 20 games with each team switche...  ...      2144\n",
       "4     The semiconductor industry has become increasi...  ...       706\n",
       "...                                                 ...  ...       ...\n",
       "4995  Build : 993993245 / 920563020 / xx 70 / 69 / 6...  ...      4444\n",
       "4996  twitter 10th old nomad chick had this nugget o...  ...      1216\n",
       "4997  QUICK UPDATE 2:27 PM EST: Activist tells HHS S...  ...      1636\n",
       "4998  END THIS LINE\\n\\n\\nLOVE THIS SHOW? BUY IT ON I...  ...      2655\n",
       "4999   that even some people did not realize at the ...  ...      2207\n",
       "\n",
       "[5000 rows x 12 columns]"
      ]
     },
     "execution_count": 24,
     "metadata": {
      "tags": []
     },
     "output_type": "execute_result"
    }
   ],
   "source": [
    "read"
   ]
  },
  {
   "cell_type": "code",
   "execution_count": 24,
   "metadata": {
    "colab": {
     "base_uri": "https://localhost:8080/"
    },
    "executionInfo": {
     "elapsed": 820,
     "status": "ok",
     "timestamp": 1613813514796,
     "user": {
      "displayName": "Jessica BF",
      "photoUrl": "https://lh3.googleusercontent.com/a-/AOh14GhCrDW1Aq5a9cT_A5gflKX4kwHi-Q3_TJ_teVaU_g=s64",
      "userId": "14141208155438223454"
     },
     "user_tz": -60
    },
    "id": "7yiUfAHFGmb4",
    "outputId": "e67c1aa7-32d3-4df6-a5df-d8565102a8b0"
   },
   "outputs": [
    {
     "data": {
      "text/plain": [
       "gpt2_sm                 11\n",
       "gpt2_xl                  0\n",
       "human                    0\n",
       "gpt2_sm_gunningfog    1057\n",
       "gpt2_xl_gunningfog     620\n",
       "human_gunningfog       355\n",
       "gpt2_sm_flesch        1057\n",
       "gpt2_xl_flesch         620\n",
       "human_flesch           355\n",
       "gpt2_sm_len              0\n",
       "gpt2_xl_len              0\n",
       "human_len                0\n",
       "dtype: int64"
      ]
     },
     "execution_count": 24,
     "metadata": {
      "tags": []
     },
     "output_type": "execute_result"
    }
   ],
   "source": [
    "read.isnull().sum()"
   ]
  },
  {
   "cell_type": "markdown",
   "metadata": {
    "id": "AM9mo9GCJMWb"
   },
   "source": [
    "## Readability plots"
   ]
  },
  {
   "cell_type": "code",
   "execution_count": 46,
   "metadata": {
    "colab": {
     "base_uri": "https://localhost:8080/",
     "height": 568
    },
    "executionInfo": {
     "elapsed": 1537,
     "status": "ok",
     "timestamp": 1613815411735,
     "user": {
      "displayName": "Jessica BF",
      "photoUrl": "https://lh3.googleusercontent.com/a-/AOh14GhCrDW1Aq5a9cT_A5gflKX4kwHi-Q3_TJ_teVaU_g=s64",
      "userId": "14141208155438223454"
     },
     "user_tz": -60
    },
    "id": "1vLchayNUOTt",
    "outputId": "f438d83f-bf72-48d6-9264-4e9abae99a0f"
   },
   "outputs": [
    {
     "data": {
      "image/png": "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\n",
      "text/plain": [
       "<Figure size 1296x648 with 3 Axes>"
      ]
     },
     "metadata": {
      "needs_background": "light",
      "tags": []
     },
     "output_type": "display_data"
    }
   ],
   "source": [
    "# Plots for gunningfog readability score -- the higher, the more difficult to read.\n",
    "\n",
    "fig, ax = plt.subplots(1,3, figsize=(18,9))\n",
    "\n",
    "ax[0].set_title(\"gunningfog score GPT-2 small output\")\n",
    "ax[0].set_ylim(0, 0.08)\n",
    "ax[0].set_xlim(0, 100)\n",
    "\n",
    "ax[1].set_title(\"gunningfog score GPT-2 XL output\")\n",
    "ax[1].set_ylim(0, 0.08)\n",
    "ax[1].set_xlim(0, 100)\n",
    "\n",
    "ax[2].set_title(\"gunningfog score human web text\")\n",
    "ax[2].set_ylim(0, 0.08)\n",
    "ax[2].set_xlim(0, 100)\n",
    "\n",
    "gpt_sm_vis = sns.histplot(data=read['gpt2_sm_gunningfog'], ax=ax[0], binwidth=5, stat=\"density\", common_norm=False)\n",
    "gpt_xl_vis = sns.histplot(data=read['gpt2_xl_gunningfog'], ax=ax[1], binwidth=5, stat=\"density\", common_norm=False)\n",
    "human_vis = sns.histplot(data=read['human_gunningfog'], ax=ax[2], binwidth=5, stat=\"density\", common_norm=False)"
   ]
  },
  {
   "cell_type": "code",
   "execution_count": 49,
   "metadata": {
    "colab": {
     "base_uri": "https://localhost:8080/",
     "height": 568
    },
    "executionInfo": {
     "elapsed": 1843,
     "status": "ok",
     "timestamp": 1613815582275,
     "user": {
      "displayName": "Jessica BF",
      "photoUrl": "https://lh3.googleusercontent.com/a-/AOh14GhCrDW1Aq5a9cT_A5gflKX4kwHi-Q3_TJ_teVaU_g=s64",
      "userId": "14141208155438223454"
     },
     "user_tz": -60
    },
    "id": "rIPIB-gETaOZ",
    "outputId": "4e0bdb24-67ef-413f-aaa8-377262d9c20f"
   },
   "outputs": [
    {
     "data": {
      "image/png": "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\n",
      "text/plain": [
       "<Figure size 1296x648 with 3 Axes>"
      ]
     },
     "metadata": {
      "needs_background": "light",
      "tags": []
     },
     "output_type": "display_data"
    }
   ],
   "source": [
    "# Plots for flesch readability score -- the lower, the more difficult to read.\n",
    "\n",
    "fig, ax = plt.subplots(1,3, figsize=(18,9))\n",
    "\n",
    "ax[0].set_title(\"flesch score GPT-2 small output\")\n",
    "ax[0].set_ylim(0, 0.04)\n",
    "ax[0].set_xlim(0, 100)\n",
    "\n",
    "ax[1].set_title(\"flesch score GPT-2 XL output\")\n",
    "ax[1].set_ylim(0, 0.04)\n",
    "ax[1].set_xlim(0, 100)\n",
    "\n",
    "ax[2].set_title(\"flesch score human web text\")\n",
    "ax[2].set_ylim(0, 0.04)\n",
    "ax[2].set_xlim(0, 100)\n",
    "\n",
    "gpt_sm_vis = sns.histplot(data=read['gpt2_sm_flesch'], ax=ax[0], binwidth=10, stat=\"density\", common_norm=False)\n",
    "gpt_xl_vis = sns.histplot(data=read['gpt2_xl_flesch'], ax=ax[1], binwidth=10, stat=\"density\", common_norm=False)\n",
    "human_vis = sns.histplot(data=read['human_flesch'], ax=ax[2], binwidth=10, stat=\"density\", common_norm=False)"
   ]
  },
  {
   "cell_type": "markdown",
   "metadata": {
    "id": "723ZB6LTMLYs"
   },
   "source": [
    "# Punctuation"
   ]
  },
  {
   "cell_type": "code",
   "execution_count": null,
   "metadata": {
    "id": "FK-2zdwGMNqK"
   },
   "outputs": [],
   "source": [
    "def count_punct(text):\n",
    "    \"\"\"\n",
    "    Count number of punctuation character in string using \"string.punctuation\".\n",
    "    \"\"\"\n",
    "    count = lambda x_1, x_2: sum([1 for tok in x_1 if tok in x_2])\n",
    "    result = count(str(text), punctuation)\n",
    "\n",
    "    return result"
   ]
  },
  {
   "cell_type": "code",
   "execution_count": null,
   "metadata": {
    "colab": {
     "base_uri": "https://localhost:8080/"
    },
    "executionInfo": {
     "elapsed": 2417,
     "status": "ok",
     "timestamp": 1613771281521,
     "user": {
      "displayName": "Jessica BF",
      "photoUrl": "https://lh3.googleusercontent.com/a-/AOh14GhCrDW1Aq5a9cT_A5gflKX4kwHi-Q3_TJ_teVaU_g=s64",
      "userId": "14141208155438223454"
     },
     "user_tz": -60
    },
    "id": "2YI0LdPrQFjq",
    "outputId": "3ec52221-f513-4e32-ea6e-ea946e68935d"
   },
   "outputs": [
    {
     "name": "stdout",
     "output_type": "stream",
     "text": [
      "Building DataFrame...\n",
      "Ready! It took 0 minutes.\n"
     ]
    }
   ],
   "source": [
    "# Build punctuation DataFrame\n",
    "\n",
    "t0 = time.time()\n",
    "\n",
    "# 1. DataFrame for all texts\n",
    "punct_df = pd.DataFrame({\"gpt2_sm\": gpt_sm_text,\n",
    "                    \"gpt2_xl\": gpt_xl_text,\n",
    "                    \"human\": human_text})\n",
    "\n",
    "print(\"Building DataFrame...\")\n",
    "\n",
    "# 2. Calling count_punct to get punctuation counts for each text\n",
    "punct_df[\"gpt2_sm_punct\"] = punct_df[\"gpt2_sm\"].apply(count_punct)\n",
    "punct_df[\"gpt2_xl_punct\"] = punct_df[\"gpt2_xl\"].apply(count_punct)\n",
    "punct_df[\"human_punct\"] = punct_df[\"human\"].apply(count_punct)\n",
    "\n",
    "print(\"Ready! It took {} minutes.\".format(int((time.time() - t0)/60)))"
   ]
  },
  {
   "cell_type": "markdown",
   "metadata": {
    "id": "Jfgna5MaYILN"
   },
   "source": [
    "## Punctuation plots"
   ]
  },
  {
   "cell_type": "code",
   "execution_count": null,
   "metadata": {
    "colab": {
     "base_uri": "https://localhost:8080/",
     "height": 541
    },
    "executionInfo": {
     "elapsed": 1437,
     "status": "ok",
     "timestamp": 1613772664838,
     "user": {
      "displayName": "Jessica BF",
      "photoUrl": "https://lh3.googleusercontent.com/a-/AOh14GhCrDW1Aq5a9cT_A5gflKX4kwHi-Q3_TJ_teVaU_g=s64",
      "userId": "14141208155438223454"
     },
     "user_tz": -60
    },
    "id": "feKSNkt6Q7t7",
    "outputId": "20e7a5a5-cb7a-41ed-d730-0dfc08290f5a"
   },
   "outputs": [
    {
     "data": {
      "image/png": "iVBORw0KGgoAAAANSUhEUgAABCkAAAInCAYAAAC1LAMtAAAABHNCSVQICAgIfAhkiAAAAAlwSFlzAAALEgAACxIB0t1+/AAAADh0RVh0U29mdHdhcmUAbWF0cGxvdGxpYiB2ZXJzaW9uMy4yLjIsIGh0dHA6Ly9tYXRwbG90bGliLm9yZy+WH4yJAAAgAElEQVR4nOzde7xtdV0v/M8XtmIGCQQRsHdBSRfsOVKHvJCnvKSip452jo/g41HyUFBhT3bsdNTuHe3p9GR2Mw+YHLBMsItJRBqiUT4kCoYoXnJrIGy5JBcvlQb4e/4YY+lksdbea23WXOO3Ju/36zVfe87fGHPM32/Msb5r7s8a4zertRYAAACAqe0zdQcAAAAAEiEFAAAA0AkhBQAAANAFIQUAAADQBSEFAAAA0AUhBQAAANAFIQV7paquqarHTt0PNkdVtap66Hj/nKp66dR9AvZMrQaY1v2pDlfVUeNnxm1T92UKVXVtVX331P1YBEKKBVRVP19Vv7+B27vXf0pbaw9rrf3VRr3GlKrqr6rqB/awzgOr6mer6sNV9U9Vtauq/qKqnjSzzrVV9S9V9dmqunncb/uPv5w+O97urqrPzTx+ybLX+YaqelNV/WNV3VZVb6mqb5zX2Hsyh+N2Q7cHG02tXp+tXKur6o+r6tXL2t5YVb893v/+qnrH3u2ZtZsNnHvcHmw2dXh91lKHWZuNrPub9TtkMwkpYG3+KMnTkjw3yUFJjk7yG0n+/bL1vre1tn+Sb0tyfJKfHn857T+2/02S5y89bq390rLnH5jkgiTfmOSwJO9K8qZ5DQpgwfRaq89I8h+r6nFJUlUnja/9or0fKgAsqNaa2xxvSa5N8uIkH0hye5L/neRB47LvT/KOZeu3JA8d75+T5JVJ/jzJZ5JcnuTrZ9Z9WJKLk9yW5OYkL0lyYpJ/TXJnks8mee9MP7575rk/n+T3Zx7/YZKbknwqyV8nedjYftq4rX8dt/dny7eXZL8kv57kE+Pt15PsNy57bJIbkrwwyS1JbkzyvN3sr4PHffSJcX/96cyyH0yycxzvBUmOGNuPGvfbtpl1/yrJD8zu5yS/Om7zH5I8ZVz2siR3J/ncOL7fXqFP353kX5JsX8N7PbuP/98kFy5b54v9WuPxc/A4tq9cZflTx2PrM0l2JfmJZfv9J2f2+9PH9f9+3IcvmdnOI5L8bZI7xnV/O8kDd3NcvnSV/uyT5KeTXDe+7muTPGS2Tyvts6x+3P5Vkv8nw38APp3hPwEH7+323NxWu0WtfmzU6qzUrzUeP7ut1TPj25nka8bj4MRly96xxtf65rF/dyS5Jsl/WK3fs9sdj5eW5J/GfXjSzPv+kiSfHPfNs/d2e1P/HLtt7VvU4aWfx61ch5e2f0qSj2eoKz81s/yczHyGzLLPcuO++m9Jrs5QW16TIQj+i/F9fWuSg/b0XqzlmFjW73OTvHC8f+Q4hjPGx18/7sd9xsffk+SqDDX4siT/Zi3H8LLX++ZxP9497ss7Zo6PXx333c1J/leSLxuXXZTk5TPbOC/J2atta6vfnEmxOZ6d5MkZDvJvyPCfuLU6OckvZPiL0M4MBSJVdUCGH9Q3JzkiyUOTXNJae3OSX0pyfhv++vPwNb7OXyQ5JslXJXlPktclSWvtrPH+r4zb+94VnvtTSR6V5LgkD8/wH97ZMX51kodk+KE/Nckrq+qgVfrxe0kenOGXyVclecU43sdn+M/qM5McnuE/weetcWxJ8sgkH05ySJJfSfKaqqrW2k/lnn8xe/4Kz/3uJJe31m5Y64tV1Y4MgcDfraOPK/nOJDe11m5dZflrkpzeWjsgybckedvMsq9O8qAM+/1nk7w6yX9O8m+T/LskP1NVR4/r3p3kxzPsn0cneUKSH9mL/n7/eHtckq9Lsn+GwGO39nDcPjfJf8nwvt+V5Dfv4/ZgNWq1Wr239lSr01o7J8lHM7xvbx6PgXWpqgck+bMkf5lhv/9oktet5bLA1tp3jncfPu7D88fHX51hfx+Z4T8WZ93H7cF9oQ5v7Tq85DEZzjR7QpKfrapvXsfr/6ckT8zw/n9vhv39kiSHZvhj2P89s+6K78WMFY+JFVyaITBJku9K8rEMdX3p8d+01r5QVd+aIRg4PclXJjkzyQVVtd/MtvZ4DLfWPpjkh5L87bgvDxwX/fL4nOMyHKdLn+GT4bPwc6rq8VX17AzHzo/tZltbmpBic/x2a+361tptGX44nrWO576xtfau1tpdGX7wjhvbvyfDB6KXt9Y+11r7TGvt8r3tYGvt7HEbn8+QGD+8qh6yxqc/O8kvttZuaa39Y4Zi8JyZ5XeOy+9srV2UIeW71wegqjo8yVOS/FBr7fZx/UtnXuPs1tp7xj6+OMmjq+qoNfbxutbaq1trd2dISw/PkMyuxSEZUtqlfh5cVXdU1aeq6nPL1v3TqrojQwp9aYZffnulqrZnSID/625WuzPJsVX1FeM+e8+yZS9rrd2Z4ZfTIUl+Y3yfr8mQ8j48SVprV7bW3tlau6u1dm2Govtde9HtZyf5tdbax1prn83wPp1c920Cpd9rrb2/tfZPSX4myTOrat/7sD1YjVqtVq/bGmv1kr/J8MF2b6+Bf1SG8PeXW2v/2lp7W5ILs75jdSU/01r7/Pg+/nmG/9zAFNThrV2Hl/xCa+1fWmvvTfLejJ831+i3Wms3t9Z2ZaiZl7fW/q619rkkb0zyrUsrruG9WO2YWO7SJI+pqn0yhBO/kuQ7xmXfNS5PhrNlzmytXd5au7u1dm6Sz2eozUv26hiuqhq3/+Ottdtaa5/J8Lvp5HGsNyX54QzvyW8kee64zkISUmyO62fuX5chxV2rm2bu/3OGDydJsiPDX2Tus6rat6p+uao+WlWfznCqUjJ84FuLIzKMa8nyMd46Focls+OYtSPJba212/f0GuN/gG/NkDCuxRf3Y2vtn8e7K/VhJbdmKNBLz79tTCn/bYbTsmY9vbV2YGvta1trP9Ja+5fdbXhmUrbPVtXXzLQfmuEvZb/TWnv9bjbxnzL8FfC6qrq0qh492+/xF0wynAKdDKeOZaZt//H1vqGqLqyqm8Zj4Jey9vd/1krHwras/5fbrOU/Pw/I3vUN9kStVqtXtAG1OlV1TJKfSPI7SV4+nhWxXkckub619oWZtuuy9v27ktvHEHh2e+s59mEjqcNbuw7faxtZfQyrWf5ZdbXPrmt5L9bUj9baRzNcXnJchrONL0zyifGsstmQ4muTvHAMwO8Yw+4dued7uLfH8KEZzoy5cmbbbx7bl/xZkn2TfLi1tlATZS4npNgcO2buf02Ga8eS4YfhwUsLquqr17HN6zOcTr+StkLbPV4rw+lkS/6vDBONfXeGU8yOWurSbrY36xMZfmiXzI5xPa5PcnBVrXSa0j1eo6q+PMNfo3ZlGFuy+vj2ZE/juyTJt49/LdtQ7UuTsu3fWvt4koyn9f1lkgtaa6udlrb0/He31p6W4TS3P03yhr3syquSfCjJMa21r8hwWl3t/ikrWulYuCvDL5jlx/u+uWfhXe19WP7zc2eGaxz3dnuwGrV6bdTqrK9Wj38h+90M15//aIZ98d/3oiufSLJj/Gvfkq/JsH+T3R8/qzlofJ9mt7fisb/G7cF9oQ6vTa91eE82sqbs6b1Yr0uTPCPDnGy7xsenZLhU5KpxnesznKV84MztwctC6tWO4eWW78tPZghhHjaz7Ye0YTLnJS9L8sEkh1fV7BkaC/eZV0ixOc6oqu1VdXCGa9GWrtt8b5KHVdVxVfWgDKcprdWFGQ7QF1TVflV1QFU9clx2c5Kjln2IuSrDafcPqKrjM/wQLjkgw6lKt2YoHMtPe705qxf3JHl9kp+uqkOr6pAM106t+1TW1tqNGa4t+52qOmjs69L1YK9P8rxxX+039vHy1tq14+lyu5L85zFV/S8ZrgNbq92Or7X2l0nenuH04EfW8BV3D8g9T+3aEFX1FUnekuT/a63tdtb3sR/PrqqHtOGSjk8n+cLunrMbB4zP/2xVfVOG08n2xuuT/HhVHV1V++dL13relWHCzgdV1b8f999P555/3VzpuE2G9/XYqnpwkl9M8kfjGSJ7uz1YjVq9Bmr1+mr16Icz/HXvl8azIE5N8pNjvZ3ZbD1o9rbCdi7P8NfAnxz3+2MzXLO9dL35VRm+ReTBNXw16KnLnr/aPvyFcX/9uwynxv/hfdwe7C11eA16rcNrcFWSp9ZwOd5XJ3nBfdjWnt6L9bo0yfMzTMCZDBOKPj/DhK1LZya/OskPjb9jqqq+fPwcesDMdlY7hpe7Ocn2qnpgkoy/G16d5BVV9VVJUlVHVtWTx/vfmeR5GeZqOyXJb1XVkSttaxH48L45/iDDX1s+luF0s5cmSWvt7zP8p+utST6S4drYNRmvQXpihg8nN43Pf9y4eOnDxa1VtTRHwc9kKEK3Z7j+7Q9mNvfaDKcj7cowT8E7l73cazLMe3BHVf3pCt15aZIrMszE+74ME9e8dIX11uI5Gf5S/qEMMxu/IElaa28dx/DHGWY7/vqM12iNfjDDbMC3ZphA6LJ1vOZvJHlGVd1eVatNyvh9GX7J/X6G2Xz/IV+aGGcjfV+Sb8/wy2XF04uXeU6Sa2s4ze2Hxj7tjZ/IkEh/JkOB3NsJ0M7OMJHTX2fYR5/L8FfDtNY+lWEyzt/Nl9L82QnuVjpuM27vnAzH+YMyTph0H7YHq1Gr106tXmOtHtt+KcmprbV/TZLW2geSvDzJq6tq6a9+J2T4K9oXb7VsPp/x+d+b4Vr0T2a4dOS5rbUPjau8IsM3C9yc4brl5ZPI/XySc8djZGneiZsyHG+fGNf/ofu4Pbgv1OG167UO787vZQicrs3wPt+XCXf39F6s16UZgo+lkOIdGcKPpcdprV2RYf/9dobjY2eGCeNnrXgMr+BtGb6h6aaq+uTY9t/Hbb5z/Gz/1iTfOAbjr80waemu1trfZDjW/vf4O2SlbW1p1drCnR3Slaq6NsPX+rx16r7AVlNVf5Xha79+d+q+sNjUau6PxjMxfr+1tuGXyMB6qcPAEmdSAAAAAF0QUgAAAABdcLkHAAAA0AVnUgAAAABdEFIAAAAAXdi251W2nkMOOaQdddRRU3cD4F6uvPLKT7bWDp26H5tBLQZ6pA4DTG93tXghQ4qjjjoqV1xxxdTdALiXqrpu6j5sFrUY6JE6DDC93dVil3sAAAAAXRBSAAAAAF0QUgAAAABdEFIAAAAAXRBSAAAAAF0QUgAAAABdEFIAAAAAXRBSAAAAAF0QUgAAAABdEFIAAAAAXRBSAAAAAF0QUgAAAABdEFIAAAAAXRBSAAAAAF0QUgAAAABdEFIAAAAAXRBSAAAAAF0QUgAAAABdEFIAAAAAXRBSAAAAAF0QUgAAAABdEFIAAAAAXRBSAAAAAF0QUgAAAABdEFIAAAAAXdg2dQcAAICNd/XVV6eqpu7Ghjti+47suv7jU3cDmBMhBQAALKA777wzJ5152dTd2HDnn37C1F0A5sjlHgAAAEAXhBQAAABAF4QUAAAAQBeEFAAAAEAXhBQAAABAF4QUAAAAQBeEFAAAAEAXhBQAAABAF4QUAAAAQBeEFAAAAEAXhBQAAABAF4QUAAAAQBfmFlJU1YOq6l1V9d6quqaqfmFsP7qqLq+qnVV1flU9cGzfb3y8c1x+1My2Xjy2f7iqnjyvPgMsGrUYYFrqMMD6zPNMis8neXxr7eFJjktyYlU9Ksn/TPKK1tpDk9ye5NRx/VOT3D62v2JcL1V1bJKTkzwsyYlJfqeq9p1jvwEWiVoMMC11GGAd5hZStMFnx4cPGG8tyeOT/NHYfm6Sp4/3nzY+zrj8CVVVY/t5rbXPt9b+IcnOJI+YV78BFolaDDAtdRhgfeY6J0VV7VtVVyW5JcnFST6a5I7W2l3jKjckOXK8f2SS65NkXP6pJF85277Cc2Zf67SquqKqrvjHf/zHeQwHYEtSiwGmNVUdnsdYAOZtriFFa+3u1tpxSbZnSHq/aY6vdVZr7fjW2vGHHnrovF4GYMtRiwGmNVUdntdrAMzTpny7R2vtjiRvT/LoJAdW1bZx0fYku8b7u5LsSJJx+UOS3DrbvsJzAFgjtRhgWuowwJ7N89s9Dq2qA8f7X5bkiUk+mKEwP2Nc7ZQkbxrvXzA+zrj8ba21NrafPM50fHSSY5K8a179BlgkajHAtNRhgPXZtudV9trhSc4dZx3eJ8kbWmsXVtUHkpxXVS9N8ndJXjOu/5okv1dVO5PclmH24rTWrqmqNyT5QJK7kpzRWrt7jv0GWCRqMcC01GGAdaghmF0sxx9/fLviCnMFAf2pqivvL9cJq8VAj+5Pdbiq2klnXjZ1Nzbc+aefkEX8Pwzcn+yuFm/KnBQAAAAAeyKkAAAAALogpAAAAAC6IKQAAAAAuiCkAAAAALogpAAAAAC6IKQAAAAAuiCkAAAAALogpAAAAAC6sG3qDgCwmK6++upU1dTd2HBHbN+RXdd/fOpuAAAsJCEFAHNx55135qQzL5u6Gxvu/NNPmLoLAAALy+UeAAAAQBeEFAAAAEAXhBQAAABAF4QUAAAAQBeEFAAAAEAXhBQAAABAF4QUAAAAQBeEFAAAAEAXhBQAAABAF4QUAAAAQBeEFAAAAEAXhBQAAABAF4QUAAAAQBeEFAAAAEAXhBQAAABAF4QUAAAAQBeEFAAAAEAXhBQAAABAF4QUAAAAQBeEFAAAAEAXhBQAAABAF4QUAAAAQBeEFAAAAEAXhBQAAABAF4QUAAAAQBeEFAAAAEAXhBQAAABAF4QUAAAAQBeEFAAAAEAXhBQAAABAF4QUAAAAQBeEFAAAAEAXhBQAAABAF4QUAAAAQBeEFAAAAEAXhBQAAABAF4QUAAAAQBeEFAAAAEAXhBQAAABAF4QUAAAAQBeEFAAAAEAXhBQAAABAF4QUAAAAQBeEFAAAAEAXhBQAAABAF4QUAAAAQBeEFAAAAEAXhBQAAABAF4QUAAAAQBe2Td2Bebj66qtTVVN3Y8MdsX1Hdl3/8am7AQAAAHOxkCHFnXfemZPOvGzqbmy4808/YeouAAAAwNy43AMAAADogpACAAAA6IKQAgAAAOjC3EKKqtpRVW+vqg9U1TVV9WNj+89X1a6qumq8PXXmOS+uqp1V9eGqevJM+4lj286qetG8+gywSNRhgOmpxQDrM8+JM+9K8sLW2nuq6oAkV1bVxeOyV7TWfnV25ao6NsnJSR6W5Igkb62qbxgXvzLJE5PckOTdVXVBa+0Dc+w7wCJQhwGmpxYDrMPcQorW2o1Jbhzvf6aqPpjkyN085WlJzmutfT7JP1TVziSPGJftbK19LEmq6rxxXQUZYDfUYYDpqcUA67Mpc1JU1VFJvjXJ5WPT86vq6qo6u6oOGtuOTHL9zNNuGNtWa1/+GqdV1RVVdcUGdx9gy9uMOjy+jloMsAqfiQH2bO4hRVXtn+SPk7ygtfbpJK9K8vVJjsuQKr98I16ntXZWa+341trxG7E9gEWxWXU4UYsBVuMzMcDazHNOilTVAzIU49e11v4kSVprN88sf3WSC8eHu5LsmHn69rEtu2kHYDfUYYDpqcUAazfPb/eoJK9J8sHW2q/NtB8+s9r3JXn/eP+CJCdX1X5VdXSSY5K8K8m7kxxTVUdX1QMzTCR0wbz6DbAo1GGA6anFAOszzzMpviPJc5K8r6quGttekuRZVXVckpbk2iSnJ0lr7ZqqekOGyX/uSnJGa+3uJKmq5yd5S5J9k5zdWrtmjv0GWBTqMMD01GKAdZjnt3u8I0mtsOii3TznZUletkL7Rbt7HgD3pg4DTE8tBlifTfl2DwAAAIA9EVIAAAAAXRBSAAAAAF0QUgAAAABdEFIAAAAAXRBSAAAAAF0QUgAAAABdEFIAAAAAXRBSAAAAAF0QUgAAAABdEFIAAAAAXRBSAAAAAF0QUgAAAABdEFIAAAAAXRBSAAAAAF0QUgAAAABdEFIAAAAAXRBSAAAAAF0QUgAAAABdEFIAAAAAXRBSAAAAAF0QUgAAAABdEFIAAAAAXRBSAAAAAF0QUgAAAABdEFIAAAAAXRBSAAAAAF0QUgAAAABdEFIAAAAAXRBSAAAAAF0QUgAAAABdEFIAAAAAXRBSAAAAAF0QUgAAAABdEFIAAAAAXRBSAAAAAF0QUgAAAABdEFIAAAAAXRBSAAAAAF3YNnUHWId9tqWqpu7Fhjti+47suv7jU3cDAACAiQkptpIv3JWTzrxs6l5suPNPP2HqLgAAANABl3sAAAAAXRBSAAAAAF0QUgAAAABdEFIAAAAAXRBSAAAAAF0QUgAAAABdEFIAAAAAXRBSAAAAAF0QUgAAAABdEFIAAAAAXRBSAAAAAF0QUgAAAABdEFIAAAAAXRBSAAAAAF0QUgAAAABdEFIAAAAAXRBSAAAAAF0QUgAAAABdEFIAAAAAXRBSAAAAAF0QUgAAAABdEFIAAAAAXRBSAAAAAF0QUgAAAABdmFtIUVU7qurtVfWBqrqmqn5sbD+4qi6uqo+M/x40tldV/WZV7ayqq6vq22a2dcq4/keq6pR59Rlg0ajFANNShwHWZ55nUtyV5IWttWOTPCrJGVV1bJIXJbmktXZMkkvGx0nylCTHjLfTkrwqGQp4kp9L8sgkj0jyc0tFHIA9UosBpqUOA6zD3EKK1tqNrbX3jPc/k+SDSY5M8rQk546rnZvk6eP9pyV5bRu8M8mBVXV4kicnubi1dltr7fYkFyc5cV79BlgkajHAtNRhgPXZthkvUlVHJfnWJJcnOay1duO46KYkh433j0xy/czTbhjbVmtf/hqnZUibAViBWgwwLXUYYM/mPnFmVe2f5I+TvKC19unZZa21lqRtxOu01s5qrR3fWjt+I7YHsEjUYoBpqcMAazPXkKKqHpChGL+utfYnY/PN4ylrGf+9ZWzflWTHzNO3j22rtQOwBmoxwLTUYYC1m+e3e1SS1yT5YGvt12YWXZBkaTbiU5K8aab9ueOMxo9K8qnxFLi3JHlSVR00Tg70pLENgD1QiwGmpQ4DrM8856T4jiTPSfK+qrpqbHtJkl9O8oaqOjXJdUmeOS67KMlTk+xM8s9JnpckrbXbqup/JHn3uN4vttZum2O/ARaJWgwwLXUYYB3mFlK01t6RpFZZ/IQV1m9JzlhlW2cnOXvjegdw/6AWA0xLHQZYn035dg8AWBj7bMtw9vbiOGL7juy6/uNTdwMAQEgBAOvyhbty0pmXTd2LDXX+6SdM3QUAgCSb8BWkAAAAAGshpAAAAAC6IKQAAAAAuiCkAAAAALogpAAAAAC6IKQAAAAAuiCkAAAAALogpAAAAAC6IKQAAAAAuiCkAAAAALogpAAAAAC6IKQAAAAAuiCkAAAAALogpAAAAAC6IKQAAAAAuiCkAAAAALogpAAAAAC6IKQAAAAAuiCkAAAAALogpAAAAAC6IKQAAAAAuiCkAAAAALogpAAAAAC6IKQAAAAAuiCkAAAAALogpAAAAAC6IKQAAAAAuiCkAAAAALqwbeoOAAAArNk+21JVU/diwx2xfUd2Xf/xqbsBkxNSAAAAW8cX7spJZ142dS823PmnnzB1F6ALLvcAAAAAuiCkAAAAALqwppCiqr5jLW0AzIc6DDA9tRhg/tZ6JsVvrbENgPlQhwGmpxYDzNluJ86sqkcnOSHJoVX1X2cWfUWSfefZMQDUYYAeqMUAm2dP3+7xwCT7j+sdMNP+6STPmFenAPgidRhgemoxwCbZbUjRWrs0yaVVdU5r7bpN6hMAI3UYYHpqMcDm2dOZFEv2q6qzkhw1+5zW2uPn0SkA7kUdBpieWgwwZ2sNKf4wyf9K8rtJ7p5fdwBYhToMMD21GGDO1hpS3NVae9VcewLA7qjDANNTiwHmbK1fQfpnVfUjVXV4VR28dJtrzwCYpQ4DTE8tBpiztZ5Jccr473+baWtJvm5juwPAKtRhgOmpxQBztqaQorV29Lw7AsDq1GGA6anFAPO3ppCiqp67Untr7bUb2x0AVqIOA0xPLQaYv7Ve7vHtM/cflOQJSd6TREEG2BzqMMD01GKAOVvr5R4/Ovu4qg5Mct5cegTAvajDANNTiwHmb63f7rHcPyVxTR7AdNRhgOmpxQAbbK1zUvxZhpmLk2TfJN+c5A3z6hQA96QOA0xPLQaYv7XOSfGrM/fvSnJda+2GOfQHgJWpwwDTU4sB5mxNl3u01i5N8qEkByQ5KMm/zrNTANyTOgwwPbUYYP7WFFJU1TOTvCvJ/5nkmUkur6pnzLNjAHyJOgwwPbUYYP7WernHTyX59tbaLUlSVYcmeWuSP5pXxwC4B3UYYHpqMcCcrfXbPfZZKsajW9fxXADuO3UYYHpqMcCcrfVMijdX1VuSvH58fFKSi+bTJQBWoA4DTE8tBpiz3YYUVfXQJIe11v5bVf3HJI8ZF/1tktfNu3MA93fqMMD01GKAzbOnMyl+PcmLk6S19idJ/iRJqur/GJd971x7B4A6DDA9tRhgk+zpGrrDWmvvW944th01lx4BMEsdBpieWgywSfYUUhy4m2VftpEdAWBF6jDA9NRigE2yp5Diiqr6weWNVfUDSa6cT5cAmKEOA0xPLQbYJHuak+IFSd5YVc/Olwrw8UkemOT75tkxAJKowwA9UIsBNsluQ4rW2s1JTqiqxyX5lrH5z1trb5t7zwBQhwE6oBYDbJ49nUmRJGmtvT3J2+fcFwBWoQ4DTE8tBpi/Pc1JAQAAALAp5hZSVNXZVXVLVb1/pu3nq2pXVV013p46s+zFVbWzqj5cVU+eaT9xbNtZVS+aV38BFpFaDDAtdRhgfeZ5JsU5SU5cof0VrbXjxttFSVJVxyY5OcnDxuf8TlXtW1X7JnllkqckOTbJs8Z1AVibc6IWA0zpnKjDAGu2pjkp9kZr7a+r6qg1rv60JOe11j6f5B+qameSR4zLdrbWPpYkVXXeuO4HNri7AAtJLQaYljoMsD5TzEnx/Kq6ejz17aCx7cgk18+sc8PYtlo7APeNWgwwLXUYYAWbHVK8KsnXJzkuyY1JXr5RG66q06rqiqq6YqO2CbCg1GKAaanDAKuY2+UeK+m2egwAABhaSURBVBm/YzpJUlWvTnLh+HBXkh0zq24f27Kb9uXbPivJWeO22wZ1GWDhqMUA01KHAVa3qWdSVNXhMw+/L8nSLMcXJDm5qvarqqOTHJPkXUneneSYqjq6qh6YYSKhCzazzwCLRi0GmJY6DLC6uZ1JUVWvT/LYJIdU1Q1Jfi7JY6vquCQtybVJTk+S1to1VfWGDJP/3JXkjNba3eN2np/kLUn2TXJ2a+2aefUZYNGoxQDTUocB1mee3+7xrBWaX7Ob9V+W5GUrtF+U5KIN7BrA/YZaDDAtdRhgfab4dg8AAACAexFSAAAAAF0QUgAAAABdEFIAAAAAXRBSAAAAAF0QUgAAAABdEFIAAAAAXRBSAAAAAF0QUgAAAABdEFIAAAAAXRBSAAAAAF0QUgAAAABdEFIAAAAAXRBSAAAAAF0QUgAAAABdEFIAAAAAXRBSAAAAAF0QUgAAAABdEFIAAAAAXRBSAAAAAF0QUgAAAABdEFIAAAAAXRBSAAAAAF0QUgAAAABdEFIAAAAAXRBSAAAAAF0QUgAAAABdEFIAAAAAXRBSAAAAAF0QUgAAAABdEFIAAAAAXRBSAAAAAF0QUgAAAABdEFIAAAAAXRBSAAAAAF0QUgAAAABdEFIAAAAAXRBSAAAAAF0QUgAAAABdEFIAAAAAXRBSAAAAAF0QUgAAAABdEFIAAAAAXRBSAAAAAF0QUgAAAABdEFIAAAAAXRBSAAAAAF0QUgAAAABdEFIAAAAAXRBSAAAAAF0QUgAAAABdEFIAAAAAXRBSAAAAAF0QUgAAAABdEFIAAAAAXRBSAAAAAF0QUgAAAABdEFIAAAAAXRBSAAAAAF0QUgAAAABdEFIAAAAAXRBSAAAAAF0QUgAAAABdEFIAAAAAXRBSAAAAAF2YW0hRVWdX1S1V9f6ZtoOr6uKq+sj470Fje1XVb1bVzqq6uqq+beY5p4zrf6SqTplXfwEWkVoMMC11GGB95nkmxTlJTlzW9qIkl7TWjklyyfg4SZ6S5JjxdlqSVyVDAU/yc0kemeQRSX5uqYgDsCbnRC0GmNI5UYcB1mxuIUVr7a+T3Las+WlJzh3vn5vk6TPtr22DdyY5sKoOT/LkJBe31m5rrd2e5OLcu8gDsAq1GGBa6jDA+mz2nBSHtdZuHO/flOSw8f6RSa6fWe+GsW21dgD2nloMMC11GGAV26Z64dZaq6q2UdurqtMynBYHwBqpxQDTUocB7mmzz6S4eTxlLeO/t4ztu5LsmFlv+9i2Wvu9tNbOaq0d31o7fsN7DbBY1GKAaanDAKvY7JDigiRLsxGfkuRNM+3PHWc0flSST42nwL0lyZOq6qBxcqAnjW0A7D21GGBa6jDAKuZ2uUdVvT7JY5McUlU3ZJiR+JeTvKGqTk1yXZJnjqtflOSpSXYm+eckz0uS1tptVfU/krx7XO8XW2vLJx4CYBVqMcC01GGA9ZlbSNFae9Yqi56wwrotyRmrbOfsJGdvYNcA7jfUYoBpqcMA67PZl3sAAAAArEhIAQAAAHRBSAEAAAB0QUgBAAAAdEFIAQAAAHRBSAEAAAB0QUgBAAAAdEFIAQAAAHRBSAEAAAB0QUgBAAAAdEFIAQAAAHRBSAEAAAB0QUgBAAAAdEFIAQAAAHRBSAEAAAB0QUgBAAAAdEFIAQAAAHRBSAEAAAB0QUgBAAAAdEFIAQAAAHRBSAEAAAB0QUgBAAAAdEFIAQAAAHRBSAEAAAB0QUgBAAAAdEFIAQAAAHRBSAEAAAB0QUgBAAAAdEFIAQAAAHRBSAEAAAB0QUgBAAAAdEFIAQAAAHRBSAEAAAB0QUgBAAAAdEFIAQAAAHRBSAEAAAB0QUgBAAAAdEFIAQAAAHRBSAEAAAB0QUgBAAAAdEFIAQAAAHRBSAEAAAB0QUgBAAAAdEFIAQAAAHRBSAEAAAB0QUgBAAAAdEFIAQAAAHRBSAEAAAB0QUgBAAAAdEFIAQAAAHRBSAEAAAB0QUgBAAAAdEFIAQAAAHRBSAEAAAB0QUgBAAAAdEFIAQAAAHRBSAEAAAB0QUgBAAAAdEFIAQAAAHRBSAEAAAB0QUgBAAAAdEFIAQAAAHRBSAEAAAB0QUgBAAAAdEFIAQAAAHRhkpCiqq6tqvdV1VVVdcXYdnBVXVxVHxn/PWhsr6r6zaraWVVXV9W3TdFngEWjFgNMSx0GuLcpz6R4XGvtuNba8ePjFyW5pLV2TJJLxsdJ8pQkx4y305K8atN7CrC41GKAaanDADN6utzjaUnOHe+fm+TpM+2vbYN3Jjmwqg6fooMA9wNqMcC01GHgfm2qkKIl+cuqurKqThvbDmut3TjevynJYeP9I5NcP/PcG8Y2AO4btRhgWuowwDLbJnrdx7TWdlXVVyW5uKo+NLuwtdaqqq1ng2NhP22PKwKwRC0GmJY6DLDMJGdStNZ2jf/ekuSNSR6R5OalU9bGf28ZV9+VZMfM07ePbcu3eVZr7fiZ6/kA2A21GGBa6jDAvW16SFFVX15VByzdT/KkJO9PckGSU8bVTknypvH+BUmeO85o/Kgkn5o5BQ6AvaAWA0xLHQZY2RSXexyW5I1VtfT6f9Bae3NVvTvJG6rq1CTXJXnmuP5FSZ6aZGeSf07yvM3vMsDCUYsBpqUOA6xg00OK1trHkjx8hfZbkzxhhfaW5IxN6BrA/YZaDDAtdRhgZT19BSkAAABwPyakAAAAALogpAAAAAC6IKQAAAAAuiCkAAAAALogpAAAAAC6IKQAAAAAuiCkAAAAALogpAAAAAC6IKQAAAAAuiCkAAAAALogpAAAAAC6IKQAAAAAuiCkAAAAALogpAAAAAC6IKQAAAAAuiCkAAAAALogpAAAAAC6IKQAAAAAuiCkAAAAALogpAAAAAC6IKQAAAAAuiCkAAAAALogpAAAAAC6IKQAAAAAuiCkAAAAALogpAAAAAC6IKQAAAAAuiCkAAAAALogpAAAAAC6IKQAAAAAuiCkAAAAALogpAAAAAC6IKQAAAAAuiCkAAAAALogpAAAAAC6IKQAAAAAuiCkAAAAALogpAAAAAC6IKQAAAAAuiCkAAAAALogpAAAAAC6IKQAAAAAuiCkAAAAALogpAAAAAC6IKQAAAAAurBt6g5A9tmWqpq6FxvuiO07suv6j0/dDQAAgC1DSMH0vnBXTjrzsql7seHOP/2EqbsAAACwpbjcAwAAAOiCkAIAAADogpACAAAA6IKQAgAAAOiCkAIAAADogpACAAAA6IKQAgAAAOjCtqk7AABMbJ9tqaqpe7Hhjti+I7uu//jU3QAA1kFIAQD3d1+4KyedednUvdhw559+wtRdAFg7gTEkEVIAAABMT2AMScxJAQAAAHRCSAEAAAB0QUgBAAAAdMGcFDAvCzj5kYmPAACAeRJSwLws4ORHJj4CAADmyeUeAAAAQBeEFAAAAEAXtkxIUVUnVtWHq2pnVb1o6v7A/dI4z8ai3Y7c8TVT79ktQR0GmJ5aDCy6LTEnRVXtm+SVSZ6Y5IYk766qC1prH5i2Z3A/s4DzbCTm2lgLdZgtaQEnME6SfR+wX+6+8/NTd2PDmZx5z9RitqQFrMXq1XxtiZAiySOS7GytfSxJquq8JE9LoiAD990C/vKcA3WYrWeBg9VFHRd7pBaz9SxgLT7/h79zIT879hK+bJWQ4sgk1888viHJIyfqC7BoNvGX5xb+EK4OA/MlMF4LtRh6sIDBS9JP+FKttan7sEdV9YwkJ7bWfmB8/Jwkj2ytPX9mndOSnDY+/JYk79/0js7fIUk+OXUn5sC4to5FHFOyueP62tbaoZv0WhtmLXV4bFeLt6ZFHFNiXFvNZo1rS9bhxGfiGX4GtpZFHNcijinp5DPxVjmTYleSHTOPt49tX9RaOyvJWUlSVVe01o7fvO5tDuPaWhZxXIs4pmRxx7XB9liHE7V4q1rEMSXGtdUs6rg2mM/EMa6tZhHHtYhjSvoZ11b5do93Jzmmqo6uqgcmOTnJBRP3CeD+RB0GmJ5aDCy8LXEmRWvtrqp6fpK3JNk3ydmttWsm7hbA/YY6DDA9tRi4P9gSIUWStNYuSnLRGlc/a559mZBxbS2LOK5FHFOyuOPaUOusw8ni7tdFHNcijikxrq1mUce1oXwmTmJcW80ijmsRx5R0Mq4tMXEmAAAAsPi2ypwUAAAAwIJbuJCiqk6sqg9X1c6qetHU/VmPqjq7qm6pqvfPtB1cVRdX1UfGfw8a26uqfnMc59VV9W3T9Xx1VbWjqt5eVR+oqmuq6sfG9q0+rgdV1buq6r3juH5hbD+6qi4f+3/+OKlVqmq/8fHOcflRU/Z/d6pq36r6u6q6cHy8CGO6tqreV1VXVdUVY9uWPgZ7pg73ZxFr8SLX4UQt3grHYO/U4r4sYh1OFrsWq8PTHYMLFVJU1b5JXpnkKUmOTfKsqjp22l6tyzlJTlzW9qIkl7TWjklyyfg4GcZ4zHg7LcmrNqmP63VXkhe21o5N8qgkZ4zvyVYf1+eTPL619vAkxyU5saoeleR/JnlFa+2hSW5Pcuq4/qlJbh/bXzGu16sfS/LBmceLMKYkeVxr7biZr1Xa6sdgl9Thbi1iLV7kOpyoxVvhGOyWWtylRazDyWLXYnV4qmOwtbYwtySPTvKWmccvTvLiqfu1zjEcleT9M48/nOTw8f7hST483j8zybNWWq/nW5I3JXniIo0ryYOTvCfJI5N8Msm2sf2Lx2OGWbgfPd7fNq5XU/d9hbFsz1CcHp/kwiS11cc09u/aJIcsa1uYY7Cnmzq8NY6VRavFi1SHx/6pxVvsGOztphb3f6wsWh0e+7gwtVgdnvYYXKgzKZIcmeT6mcc3jG1b2WGttRvH+zclOWy8v+XGOp769K1JLs8CjGs8BeyqJLckuTjJR5Pc0Vq7a1xltu9fHNe4/FNJvnJze7wmv57kJ5N8YXz8ldn6Y0qSluQvq+rKqjptbNvyx2CnFnH/LdSxski1eEHrcKIWJ1vkGOzYIu6/hTlWFqkOJwtbi9XhCY/BLfMVpCSttVZVW/LrWKpq/yR/nOQFrbVPV9UXl23VcbXW7k5yXFUdmOSNSb5p4i7dJ1X1PUluaa1dWVWPnbo/G+wxrbVdVfVVSS6uqg/NLtyqxyCbb6sfK4tWixetDidq8VY7BpnGVj5WFq0OJ4tXi9Xh6Y/BRTuTYleSHTOPt49tW9nNVXV4koz/3jK2b5mxVtUDMhTj17XW/mRs3vLjWtJauyPJ2zOc9nVgVS2Ff7N9/+K4xuUPSXLrJnd1T74jyX+oqmuTnJfh9LbfyNYeU5KktbZr/PeWDL88H5EFOgY7s4j7byGOlUWuxQtUhxO1eEsegx1axP235Y+VRa7DyULVYnV4MNkxuGghxbuTHDPOvPrAJCcnuWDiPt1XFyQ5Zbx/Sobr15banzvOuvqoJJ+aOU2nGzXEw69J8sHW2q/NLNrq4zp0TItTVV+W4ZrCD2YozM8YV1s+rqXxPiPJ29p4cVcvWmsvbq1tb60dleFn522ttWdnC48pSarqy6vqgKX7SZ6U5P3Z4sdgx9ThDi1iLV7EOpyoxdlCx2Dn1OLOLGIdThazFqvDHRyDmzHxxWbekjw1yd9nuBbqp6buzzr7/vokNya5M8M1P6dmuJ7pkiQfSfLWJAeP61aGWZs/muR9SY6fuv+rjOkxGa59ujrJVePtqQswrn+T5O/Gcb0/yc+O7V+X5F1Jdib5wyT7je0PGh/vHJd/3dRj2MP4HpvkwkUY09j/9463a5bqwlY/Bnu+qcP93RaxFi96HR77rBZ3fAz2flOL+7otYh0e+7nQtVgdnuYYrLEDAAAAAJNatMs9AAAAgC1KSAEAAAD/f3t3H7JnWcZx/PvNiS/N0CmZIWR/BDqmqa0ZpjZp0gvlO5gVMkl7c5aJYRiiloGmVJZ/LBWdiAzM6SwlbdVkqZlT5zazslArygyzhkNdM4/+uM4H7409z/1se15ut9/nn13PeV33cR3XAzvuk4PzOp8YCGlSRERERERERMRASJMiIiIiIiIiIgZCmhQRERERERERMRDSpIiIiIiIiIiIgZAmRbyhqbPVw3t+Pld9Ql2l/kJ9x2TmN9bUc9RdJzuPiIhNGY+a3GLeObaZbnYOF0zm/SMi1P3Uxyc7j8mizlXfPtl5xMRIkyLe6GYDh/f8vAKYWVUHAbcC356MpMbROUCaFBExqGazbdbkNCkiIibXXCBNiu1EmhQxcNQL1T+o96kL1fPUe9Wr1MfUx9VZ6n7A54GvtPEjq2ppVb3UQj0I7DvCffZRl/XEPLKNr1WvUH+r/rzd6171KfXYEeLNVe9o1/5RvaiNb9D5bs9zcTu+V71cfUh9sieHHdQrW16r1LPVL9EV56Xq0q34FUdEjNoE1uQT2moLW31+Un3bKPK7WL1J/XWrvWe28Q1WYKhXq3Pb8TPqJeqj6mp1/zY+Vb2hja1ST1IvA3Zpz3Tzlv0WIyLGxA7qtW2O+jN1l1aPZwKoe6nPtOO56mJ1Sat589rqthXqg+q0dt2Z6nJ1pbpoaMWuukD9vvpAmwOfPFxSrd4uU+9q3xfz1Te1c2t7rjtZXdAvvnp+q8Mr1cvauZnAza0W7zLWv9gYLFMmO4GIXup7gZOAdwM7Ao8Cj7TTu1bVwepRwPVVNUOdD6ytqis3Ee4zwE9HuN0ngXuq6lvqDry+QuHNwC+r6qvq7cClwDHAdOBG4McjxJwFzABeApardwHP93nsKVU1S/0ocBEwB/gssB9wcFW9qk6rqhfUc4Gjq6pfzIiIrTaRNbmqbldPAs4CPgxcVFX/GGog9HEQ8D66+r2i1d5+nq+qQ9UvAucBZwAXAmuq6kAAdY+qWqTOq6qDRxEzImI8vQs4tarOVG+hq88jmQEcAuwM/Ak4v6oOUb8LnAZ8D7itqq4FUC+lq9U/aJ/fBzgC2J9u/nvrCPeaRTdX/jNwN3Bin+s3GV/9CHAccFhVvdQzB54HnFdVD/eJGduANCli0LwfuKOqXgFeUX/Sc24hQFUtU9+i7j5cEPXTdB3XD4xwr+XA9eqOwOKqeqyN/5euuAKsBtZV1Xp1NV3jYCRLqupfLYfb6Arv4j6fua39+0hP/DnA/Kp6FaCqXugTIyJiPExkTQY4G3gceLCqFm5GnndU1cvAy3YrzWYB/+nzmd7ae2I7ngN8YuiCqvr3ZuQQETHenu6Zr/bOG4eztKpeBF5U1wBDNXw1XXMXYEZrTuwOTAXu6fn84qp6DXhC3bvPvR6qqqcA1IV0c+B+TYpNxZ8D3DC0Ci9z4O1TXveIN5Lq8zMA6hzg68CxVbVu2GBVy4CjgL8BC9TT2qn1VTUU+zVgXbv+Nfo39jaV46ts+H9t542uGcrxf6OIHxExKMa0Jjf70tXdvYeWCm9FLqm9EbGt6a2hQ7Wrt9YNV+egZ07bjofq3gJgXltBdslGMXo/b5/chvtO6B0fKb9+8WM7kiZFDJr7gY+rO6tTgY/1nDsFQD2CbjnuGuBFYLehC9RDgB/STYb/OdKN7HaZf64tcbsOOHQM8j9GndbelTu+Pc9zwFvVPdWdNnqm4SwBPqdOablOa+MbPG9ExDibyJo8BbgeOBX4HXDuZuR5XMtxT7rNO5fTLTmeru7UVnl8cBRxltC9bjKU0x7tcH1bdRcRMWieAd7TjofdN2IEuwHPthr3qa3IY5b6ztZgPgW4r40/px7Qxk8YRZwlwOk9e2NkDrwdSpMiBkpVLad7J20V3bvLq4E17fQr6gpgPt37ctAtWzuhbaJzJHAF3VK1H7WxkfaPmA2sbDFPAa4ag0d4CFjU8l9UVQ9X1XrgG+3cEuD3o4hzHfAXYJW6km7/DIBrgLvNxpkRMQEmuCZfAPyqqu6ja1CcoR4wylRXAUvpNuf8ZlX9var+CtxC9/rILXR/aaSfS4E97DYDXQkc3cavoavH2TgzIgbNlcAXWj3eaws+fyHwG7qm9GjmqMNZDlxN12R+Gri9jX8NuBN4AHi2X5Cqupvue+dh9TG6PYOgW/ExPxtnbh98fVV7xGBQp1bV2tZBXUa3ieR3GPDNcux2jZ9ZVfMmO5eIiLEy6DXZ7q8lDbdZZ0REjDN1Nt13wmhWC0f0lXcwYxBdo06ne2/txqp6VPOaWkTEJElNjoiIiAmTlRSxzVMPBG7aaHhdVR22hfE+BFy+0fDTVTWa9+wiIrZrW1qT1dOBL280fH9VnbWp6yMiYmyN9Zw6YjhpUkRERERERETEQMjGmRERERERERExENKkiIiIiIiIiIiBkCZFRERERERERAyENCkiIiIiIiIiYiCkSRERERERERERA+H/Dv2Otu4CthwAAAAASUVORK5CYII=\n",
      "text/plain": [
       "<Figure size 1296x648 with 3 Axes>"
      ]
     },
     "metadata": {
      "needs_background": "light",
      "tags": []
     },
     "output_type": "display_data"
    }
   ],
   "source": [
    "# Plots for punctuation count -- overview.\n",
    "\n",
    "fig, ax = plt.subplots(1,3, figsize=(18,9))\n",
    "\n",
    "ax[0].set_title(\"punctuation count GPT-2 small output\")\n",
    "ax[0].set_ylim(0, 3300)\n",
    "ax[0].set_xlim(0, 550)\n",
    "\n",
    "ax[1].set_title(\"punctuation count GPT-2 XL output\")\n",
    "ax[1].set_ylim(0, 3300)\n",
    "ax[1].set_xlim(0, 550)\n",
    "\n",
    "ax[2].set_title(\"punctuation count human web text\")\n",
    "ax[2].set_ylim(0, 3300)\n",
    "ax[2].set_xlim(0, 550)\n",
    "\n",
    "gpt_sm_vis = sns.histplot(data=punct_df['gpt2_sm_punct'], ax=ax[0], binwidth=100)\n",
    "gpt_xl_vis = sns.histplot(data=punct_df['gpt2_xl_punct'], ax=ax[1], binwidth=100)\n",
    "human_vis = sns.histplot(data=punct_df['human_punct'], ax=ax[2], binwidth=100)"
   ]
  },
  {
   "cell_type": "code",
   "execution_count": null,
   "metadata": {
    "colab": {
     "base_uri": "https://localhost:8080/",
     "height": 541
    },
    "executionInfo": {
     "elapsed": 1985,
     "status": "ok",
     "timestamp": 1613772782396,
     "user": {
      "displayName": "Jessica BF",
      "photoUrl": "https://lh3.googleusercontent.com/a-/AOh14GhCrDW1Aq5a9cT_A5gflKX4kwHi-Q3_TJ_teVaU_g=s64",
      "userId": "14141208155438223454"
     },
     "user_tz": -60
    },
    "id": "thwWY_UhWWiT",
    "outputId": "58930100-8a0d-4fc0-faee-2ea69078f93d"
   },
   "outputs": [
    {
     "data": {
      "image/png": "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\n",
      "text/plain": [
       "<Figure size 1296x648 with 3 Axes>"
      ]
     },
     "metadata": {
      "needs_background": "light",
      "tags": []
     },
     "output_type": "display_data"
    }
   ],
   "source": [
    "# Plots for punctuation count -- closer view.\n",
    "\n",
    "fig, ax = plt.subplots(1,3, figsize=(18,9))\n",
    "\n",
    "ax[0].set_title(\"punctuation count GPT-2 small output\")\n",
    "ax[0].set_ylim(0, 2000)\n",
    "ax[0].set_xlim(0, 550)\n",
    "\n",
    "ax[1].set_title(\"punctuation count GPT-2 XL output\")\n",
    "ax[1].set_ylim(0, 2000)\n",
    "ax[1].set_xlim(0, 550)\n",
    "\n",
    "ax[2].set_title(\"punctuation count human web text\")\n",
    "ax[2].set_ylim(0, 2000)\n",
    "ax[2].set_xlim(0, 550)\n",
    "\n",
    "gpt_sm_vis = sns.histplot(data=punct_df['gpt2_sm_punct'], ax=ax[0], binwidth=50)\n",
    "gpt_xl_vis = sns.histplot(data=punct_df['gpt2_xl_punct'], ax=ax[1], binwidth=50)\n",
    "human_vis = sns.histplot(data=punct_df['human_punct'], ax=ax[2], binwidth=50)"
   ]
  },
  {
   "cell_type": "markdown",
   "metadata": {
    "id": "XvVr0SCT_CDT"
   },
   "source": [
    "# Parts-of-Speech"
   ]
  },
  {
   "cell_type": "code",
   "execution_count": 65,
   "metadata": {
    "executionInfo": {
     "elapsed": 1043,
     "status": "ok",
     "timestamp": 1613819209282,
     "user": {
      "displayName": "Jessica BF",
      "photoUrl": "https://lh3.googleusercontent.com/a-/AOh14GhCrDW1Aq5a9cT_A5gflKX4kwHi-Q3_TJ_teVaU_g=s64",
      "userId": "14141208155438223454"
     },
     "user_tz": -60
    },
    "id": "4UwAmx8Pw1Qg"
   },
   "outputs": [],
   "source": [
    "def percent_pos(text, pos):\n",
    "    \"\"\"\n",
    "    Get percentage of words in text with a given pos.\n",
    "    pos = 'VERB', 'NOUN' or 'PROPN'.\n",
    "    \"\"\"\n",
    "    doc = nlp(str(text))\n",
    "    total_words = len(doc)\n",
    "    words = [tok for tok in doc if (tok.is_alpha and tok.is_ascii)]\n",
    "\n",
    "    if total_words > 0:\n",
    "\n",
    "        if pos == 'VERB':\n",
    "            verbs = [w for w in words if w.pos_ == 'VERB']\n",
    "            return round(len(verbs)/total_words, 2)\n",
    "\n",
    "        if pos == 'NOUN':\n",
    "            nouns = [w for w in words if w.pos_ == 'VERB']\n",
    "            return round(len(nouns)/total_words, 2)\n",
    "        \n",
    "        if pos == 'PROPN':\n",
    "            propns = [w for w in words if w.pos_ == 'PROPN']\n",
    "            return round(len(propns)/total_words, 2)\n",
    "    \n",
    "    else:\n",
    "        return 0"
   ]
  },
  {
   "cell_type": "markdown",
   "metadata": {
    "id": "T-1hJNL4_GBt"
   },
   "source": [
    "## Use verb/noun"
   ]
  },
  {
   "cell_type": "code",
   "execution_count": 66,
   "metadata": {
    "colab": {
     "base_uri": "https://localhost:8080/"
    },
    "executionInfo": {
     "elapsed": 1858629,
     "status": "ok",
     "timestamp": 1613821148174,
     "user": {
      "displayName": "Jessica BF",
      "photoUrl": "https://lh3.googleusercontent.com/a-/AOh14GhCrDW1Aq5a9cT_A5gflKX4kwHi-Q3_TJ_teVaU_g=s64",
      "userId": "14141208155438223454"
     },
     "user_tz": -60
    },
    "id": "PUpTbvKbu2Uv",
    "outputId": "9e79b74f-2828-4a43-97fb-62cc1872af9b"
   },
   "outputs": [
    {
     "name": "stdout",
     "output_type": "stream",
     "text": [
      "Building DataFrame...\n",
      "Verb percentages done...\n",
      "Ready! It took 30 minutes.\n"
     ]
    }
   ],
   "source": [
    "# Build POS DataFrame\n",
    "\n",
    "t0 = time.time()\n",
    "\n",
    "# 1. DataFrame for all texts\n",
    "pos_df = pd.DataFrame({\"gpt2_sm\": gpt_sm_text,\n",
    "                    \"gpt2_xl\": gpt_xl_text,\n",
    "                    \"human\": human_text})\n",
    "\n",
    "print(\"Building DataFrame...\")\n",
    "\n",
    "# 2. Calling percent_pos to get pos percentages for each text, for each chosen word type\n",
    "\n",
    "# Columns for verb counts\n",
    "pos_df[\"gpt2_sm_verbs\"] = pos_df[\"gpt2_sm\"].apply(percent_pos, args=('VERB',))\n",
    "pos_df[\"gpt2_xl_verbs\"] = pos_df[\"gpt2_xl\"].apply(percent_pos, args=('VERB',))\n",
    "pos_df[\"human_verbs\"] = pos_df[\"human\"].apply(percent_pos, args=('VERB',))\n",
    "print(\"Verb percentages done...\")\n",
    "\n",
    "# Columns for common noun counts\n",
    "print(\"Starting with nouns...\")\n",
    "pos_df[\"gpt2_sm_nouns\"] = pos_df[\"gpt2_sm\"].apply(percent_pos, args=('NOUN',))\n",
    "pos_df[\"gpt2_xl_nouns\"] = pos_df[\"gpt2_xl\"].apply(percent_pos, args=('NOUN',))\n",
    "pos_df[\"human_nouns\"] = pos_df[\"human\"].apply(percent_pos, args=('NOUN',))\n",
    "\n",
    "print(\"Ready! It took {} minutes.\".format(int((time.time() - t0)/60)))"
   ]
  },
  {
   "cell_type": "code",
   "execution_count": 67,
   "metadata": {
    "colab": {
     "base_uri": "https://localhost:8080/",
     "height": 667
    },
    "executionInfo": {
     "elapsed": 1241,
     "status": "ok",
     "timestamp": 1613821514227,
     "user": {
      "displayName": "Jessica BF",
      "photoUrl": "https://lh3.googleusercontent.com/a-/AOh14GhCrDW1Aq5a9cT_A5gflKX4kwHi-Q3_TJ_teVaU_g=s64",
      "userId": "14141208155438223454"
     },
     "user_tz": -60
    },
    "id": "jfSYzsPXCz7o",
    "outputId": "7805c4a3-f274-4a4d-e6fc-82717ad8ea03"
   },
   "outputs": [
    {
     "data": {
      "text/html": [
       "<div>\n",
       "<style scoped>\n",
       "    .dataframe tbody tr th:only-of-type {\n",
       "        vertical-align: middle;\n",
       "    }\n",
       "\n",
       "    .dataframe tbody tr th {\n",
       "        vertical-align: top;\n",
       "    }\n",
       "\n",
       "    .dataframe thead th {\n",
       "        text-align: right;\n",
       "    }\n",
       "</style>\n",
       "<table border=\"1\" class=\"dataframe\">\n",
       "  <thead>\n",
       "    <tr style=\"text-align: right;\">\n",
       "      <th></th>\n",
       "      <th>gpt2_sm</th>\n",
       "      <th>gpt2_xl</th>\n",
       "      <th>human</th>\n",
       "      <th>gpt2_sm_verbs</th>\n",
       "      <th>gpt2_xl_verbs</th>\n",
       "      <th>human_verbs</th>\n",
       "      <th>gpt2_sm_nouns</th>\n",
       "      <th>gpt2_xl_nouns</th>\n",
       "      <th>human_nouns</th>\n",
       "    </tr>\n",
       "  </thead>\n",
       "  <tbody>\n",
       "    <tr>\n",
       "      <th>0</th>\n",
       "      <td>The Technology Report empowers or enlightens. ...</td>\n",
       "      <td>What is this?\\n\\nThis is a neat little plugin ...</td>\n",
       "      <td>Is this restaurant family-friendly ? Yes No Un...</td>\n",
       "      <td>0.13</td>\n",
       "      <td>0.10</td>\n",
       "      <td>0.03</td>\n",
       "      <td>0.13</td>\n",
       "      <td>0.10</td>\n",
       "      <td>0.03</td>\n",
       "    </tr>\n",
       "    <tr>\n",
       "      <th>1</th>\n",
       "      <td>Available Colors:\\n\\nWool Revolver\\n\\nwoodinoo...</td>\n",
       "      <td>People carry a memorial sign to honor Robert P...</td>\n",
       "      <td>Clinton talks about her time of 'reflection' d...</td>\n",
       "      <td>0.11</td>\n",
       "      <td>0.13</td>\n",
       "      <td>0.13</td>\n",
       "      <td>0.11</td>\n",
       "      <td>0.13</td>\n",
       "      <td>0.13</td>\n",
       "    </tr>\n",
       "    <tr>\n",
       "      <th>2</th>\n",
       "      <td>OUTLAW CENTER:\\n\\nUPS &amp; EXPORTS Fulfillment 56...</td>\n",
       "      <td>Google is launching a new scholarship campaign...</td>\n",
       "      <td>House Majority Whip Steve Scalise has been dis...</td>\n",
       "      <td>0.06</td>\n",
       "      <td>0.12</td>\n",
       "      <td>0.09</td>\n",
       "      <td>0.06</td>\n",
       "      <td>0.12</td>\n",
       "      <td>0.09</td>\n",
       "    </tr>\n",
       "    <tr>\n",
       "      <th>3</th>\n",
       "      <td>16 of the past 20 games with each team switche...</td>\n",
       "      <td>Authored by: Kristin Scavuzzo, Managing Direct...</td>\n",
       "      <td>Insight Course: Lesson 14\\n\\nControl of the Mi...</td>\n",
       "      <td>0.10</td>\n",
       "      <td>0.07</td>\n",
       "      <td>0.12</td>\n",
       "      <td>0.10</td>\n",
       "      <td>0.07</td>\n",
       "      <td>0.12</td>\n",
       "    </tr>\n",
       "    <tr>\n",
       "      <th>4</th>\n",
       "      <td>The semiconductor industry has become increasi...</td>\n",
       "      <td>&gt;at some point the MPP team stop standardizing...</td>\n",
       "      <td>BY JENNIE MCNULTY\\n\\nLesbian.com\\n\\nYou know W...</td>\n",
       "      <td>0.11</td>\n",
       "      <td>0.08</td>\n",
       "      <td>0.10</td>\n",
       "      <td>0.11</td>\n",
       "      <td>0.08</td>\n",
       "      <td>0.10</td>\n",
       "    </tr>\n",
       "    <tr>\n",
       "      <th>...</th>\n",
       "      <td>...</td>\n",
       "      <td>...</td>\n",
       "      <td>...</td>\n",
       "      <td>...</td>\n",
       "      <td>...</td>\n",
       "      <td>...</td>\n",
       "      <td>...</td>\n",
       "      <td>...</td>\n",
       "      <td>...</td>\n",
       "    </tr>\n",
       "    <tr>\n",
       "      <th>4995</th>\n",
       "      <td>Build : 993993245 / 920563020 / xx 70 / 69 / 6...</td>\n",
       "      <td>Mac coverage beginning in 1926 at The Michigan...</td>\n",
       "      <td>The week after my 30th birthday, my best frien...</td>\n",
       "      <td>0.00</td>\n",
       "      <td>0.08</td>\n",
       "      <td>0.14</td>\n",
       "      <td>0.00</td>\n",
       "      <td>0.08</td>\n",
       "      <td>0.14</td>\n",
       "    </tr>\n",
       "    <tr>\n",
       "      <th>4996</th>\n",
       "      <td>twitter 10th old nomad chick had this nugget o...</td>\n",
       "      <td>Martyr Dadabhoyao got a big experience about s...</td>\n",
       "      <td>Downton Abbey doesn't return for its third sea...</td>\n",
       "      <td>0.11</td>\n",
       "      <td>0.10</td>\n",
       "      <td>0.10</td>\n",
       "      <td>0.11</td>\n",
       "      <td>0.10</td>\n",
       "      <td>0.10</td>\n",
       "    </tr>\n",
       "    <tr>\n",
       "      <th>4997</th>\n",
       "      <td>QUICK UPDATE 2:27 PM EST: Activist tells HHS S...</td>\n",
       "      <td>\"The nation's smugglers have changed their tac...</td>\n",
       "      <td>Amazon Studios said today that Stephen Root ha...</td>\n",
       "      <td>0.11</td>\n",
       "      <td>0.10</td>\n",
       "      <td>0.10</td>\n",
       "      <td>0.11</td>\n",
       "      <td>0.10</td>\n",
       "      <td>0.10</td>\n",
       "    </tr>\n",
       "    <tr>\n",
       "      <th>4998</th>\n",
       "      <td>END THIS LINE\\n\\n\\nLOVE THIS SHOW? BUY IT ON I...</td>\n",
       "      <td>The level of British public support for direct...</td>\n",
       "      <td>Everyone likes clean wheels but not everyone h...</td>\n",
       "      <td>0.12</td>\n",
       "      <td>0.12</td>\n",
       "      <td>0.14</td>\n",
       "      <td>0.12</td>\n",
       "      <td>0.12</td>\n",
       "      <td>0.14</td>\n",
       "    </tr>\n",
       "    <tr>\n",
       "      <th>4999</th>\n",
       "      <td>that even some people did not realize at the ...</td>\n",
       "      <td>The Minnesota State Patrol is investigating a ...</td>\n",
       "      <td>This post goes out to those of you who have no...</td>\n",
       "      <td>0.12</td>\n",
       "      <td>0.12</td>\n",
       "      <td>0.11</td>\n",
       "      <td>0.12</td>\n",
       "      <td>0.12</td>\n",
       "      <td>0.11</td>\n",
       "    </tr>\n",
       "  </tbody>\n",
       "</table>\n",
       "<p>5000 rows × 9 columns</p>\n",
       "</div>"
      ],
      "text/plain": [
       "                                                gpt2_sm  ... human_nouns\n",
       "0     The Technology Report empowers or enlightens. ...  ...        0.03\n",
       "1     Available Colors:\\n\\nWool Revolver\\n\\nwoodinoo...  ...        0.13\n",
       "2     OUTLAW CENTER:\\n\\nUPS & EXPORTS Fulfillment 56...  ...        0.09\n",
       "3     16 of the past 20 games with each team switche...  ...        0.12\n",
       "4     The semiconductor industry has become increasi...  ...        0.10\n",
       "...                                                 ...  ...         ...\n",
       "4995  Build : 993993245 / 920563020 / xx 70 / 69 / 6...  ...        0.14\n",
       "4996  twitter 10th old nomad chick had this nugget o...  ...        0.10\n",
       "4997  QUICK UPDATE 2:27 PM EST: Activist tells HHS S...  ...        0.10\n",
       "4998  END THIS LINE\\n\\n\\nLOVE THIS SHOW? BUY IT ON I...  ...        0.14\n",
       "4999   that even some people did not realize at the ...  ...        0.11\n",
       "\n",
       "[5000 rows x 9 columns]"
      ]
     },
     "execution_count": 67,
     "metadata": {
      "tags": []
     },
     "output_type": "execute_result"
    }
   ],
   "source": [
    "pos_df"
   ]
  },
  {
   "cell_type": "markdown",
   "metadata": {
    "id": "pbJXdb8uZulO"
   },
   "source": [
    "### Average verb/noun % table"
   ]
  },
  {
   "cell_type": "code",
   "execution_count": 100,
   "metadata": {
    "executionInfo": {
     "elapsed": 1469,
     "status": "ok",
     "timestamp": 1613823839766,
     "user": {
      "displayName": "Jessica BF",
      "photoUrl": "https://lh3.googleusercontent.com/a-/AOh14GhCrDW1Aq5a9cT_A5gflKX4kwHi-Q3_TJ_teVaU_g=s64",
      "userId": "14141208155438223454"
     },
     "user_tz": -60
    },
    "id": "m9TqGs8DRSM1"
   },
   "outputs": [],
   "source": [
    "column_names = [\"gpt2_sm_verbs_avg\",\n",
    "           \"gpt2_xl_verbs_avg\",\n",
    "           \"human_verbs_avg\",\n",
    "           \"gpt2_sm_nouns_avg\",\n",
    "           \"gpt2_xl_nouns_avg\",\n",
    "           \"human_nouns_avg\"]\n",
    "\n",
    "avg = [round(np.mean(pos_df.loc[pos_df['gpt2_sm_verbs'] != 0][\"gpt2_sm_verbs\"].values), 3),\n",
    "       round(np.mean(pos_df.loc[pos_df['gpt2_xl_verbs'] != 0][\"gpt2_xl_verbs\"].values), 3),\n",
    "       round(np.mean(pos_df.loc[pos_df['human_verbs'] != 0][\"human_verbs\"].values), 3),\n",
    "       round(np.mean(pos_df.loc[pos_df['gpt2_sm_nouns'] != 0][\"gpt2_sm_nouns\"].values), 3),\n",
    "       round(np.mean(pos_df.loc[pos_df['gpt2_xl_nouns'] != 0][\"gpt2_xl_nouns\"].values), 3),\n",
    "       round(np.mean(pos_df.loc[pos_df['human_nouns'] != 0][\"human_nouns\"].values), 3)]\n",
    "       \n",
    "pos_avg_df = pd.DataFrame(columns=column_names)\n",
    "pos_avg_df.loc[0] = avg"
   ]
  },
  {
   "cell_type": "code",
   "execution_count": 101,
   "metadata": {
    "colab": {
     "base_uri": "https://localhost:8080/",
     "height": 80
    },
    "executionInfo": {
     "elapsed": 1521,
     "status": "ok",
     "timestamp": 1613823849647,
     "user": {
      "displayName": "Jessica BF",
      "photoUrl": "https://lh3.googleusercontent.com/a-/AOh14GhCrDW1Aq5a9cT_A5gflKX4kwHi-Q3_TJ_teVaU_g=s64",
      "userId": "14141208155438223454"
     },
     "user_tz": -60
    },
    "id": "oMPD-GOfUVrF",
    "outputId": "2f658525-21d9-4466-de79-4ac566113d29"
   },
   "outputs": [
    {
     "data": {
      "text/html": [
       "<div>\n",
       "<style scoped>\n",
       "    .dataframe tbody tr th:only-of-type {\n",
       "        vertical-align: middle;\n",
       "    }\n",
       "\n",
       "    .dataframe tbody tr th {\n",
       "        vertical-align: top;\n",
       "    }\n",
       "\n",
       "    .dataframe thead th {\n",
       "        text-align: right;\n",
       "    }\n",
       "</style>\n",
       "<table border=\"1\" class=\"dataframe\">\n",
       "  <thead>\n",
       "    <tr style=\"text-align: right;\">\n",
       "      <th></th>\n",
       "      <th>gpt2_sm_verbs_avg</th>\n",
       "      <th>gpt2_xl_verbs_avg</th>\n",
       "      <th>human_verbs_avg</th>\n",
       "      <th>gpt2_sm_nouns_avg</th>\n",
       "      <th>gpt2_xl_nouns_avg</th>\n",
       "      <th>human_nouns_avg</th>\n",
       "    </tr>\n",
       "  </thead>\n",
       "  <tbody>\n",
       "    <tr>\n",
       "      <th>0</th>\n",
       "      <td>0.105</td>\n",
       "      <td>0.104</td>\n",
       "      <td>0.105</td>\n",
       "      <td>0.105</td>\n",
       "      <td>0.104</td>\n",
       "      <td>0.105</td>\n",
       "    </tr>\n",
       "  </tbody>\n",
       "</table>\n",
       "</div>"
      ],
      "text/plain": [
       "   gpt2_sm_verbs_avg  gpt2_xl_verbs_avg  ...  gpt2_xl_nouns_avg  human_nouns_avg\n",
       "0              0.105              0.104  ...              0.104            0.105\n",
       "\n",
       "[1 rows x 6 columns]"
      ]
     },
     "execution_count": 101,
     "metadata": {
      "tags": []
     },
     "output_type": "execute_result"
    }
   ],
   "source": [
    "pos_avg_df"
   ]
  }
 ],
 "metadata": {
  "colab": {
   "authorship_tag": "ABX9TyNjFRMgZ+ILhUeJDuOgoWpy",
   "name": "MGT_Feature_Engineering_EDA.ipynb",
   "provenance": []
  },
  "kernelspec": {
   "display_name": "Python 3",
   "language": "python",
   "name": "python3"
  },
  "language_info": {
   "codemirror_mode": {
    "name": "ipython",
    "version": 3
   },
   "file_extension": ".py",
   "mimetype": "text/x-python",
   "name": "python",
   "nbconvert_exporter": "python",
   "pygments_lexer": "ipython3",
   "version": "3.6.8"
  }
 },
 "nbformat": 4,
 "nbformat_minor": 1
}
